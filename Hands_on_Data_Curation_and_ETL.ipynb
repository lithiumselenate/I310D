{
  "cells": [
    {
      "cell_type": "markdown",
      "id": "a8d4bd15",
      "metadata": {
        "id": "a8d4bd15"
      },
      "source": [
        "# Hands-on 5: Data-Engineering I - Data Curation\n",
        "\n",
        "*Note: This lab session is graded. Complete all the exercises, run your code and upload the ipynb file under assignment Hands-on5*\n",
        "\n",
        "**Deadline is Today (02/21), 11:59 PM**"
      ]
    },
    {
      "cell_type": "markdown",
      "id": "043cfc0f",
      "metadata": {
        "id": "043cfc0f"
      },
      "source": [
        "## Preamble: Python Libraries\n",
        "- Collection of different modules\n",
        "- Modules contain bundle of codes that can be repeatedly used in other programs\n",
        "- Typically the library code are available through functions\n",
        "- Some libraries are pre-installed in Anaconda and some have to be installed when you use them for the first time\n",
        "- You should always check documentation and examples provided by the library"
      ]
    },
    {
      "cell_type": "code",
      "execution_count": 1,
      "id": "b016bc99",
      "metadata": {
        "colab": {
          "base_uri": "https://localhost:8080/"
        },
        "id": "b016bc99",
        "outputId": "366bb412-0612-49df-af73-c68ce75dc183"
      },
      "outputs": [
        {
          "name": "stdout",
          "output_type": "stream",
          "text": [
            "97\n",
            "4.605170185988092\n",
            "2.0\n",
            "2.0\n"
          ]
        }
      ],
      "source": [
        "# Generate a random number between 1, 100\n",
        "\n",
        "import random\n",
        "\n",
        "print (random.randint(1,100))\n",
        "\n",
        "# Compute logarithm of a number\n",
        "\n",
        "import math\n",
        "\n",
        "print (math.log(100))\n",
        "print (math.log(100, 10))\n",
        "\n",
        "# Import only a function / object from Library\n",
        "\n",
        "from math import log\n",
        "print (log(100,10))"
      ]
    },
    {
      "cell_type": "markdown",
      "id": "6ee1c46e",
      "metadata": {
        "id": "6ee1c46e"
      },
      "source": [
        "## Data Collection for Weather Analysis"
      ]
    },
    {
      "cell_type": "markdown",
      "id": "978077f5",
      "metadata": {
        "id": "978077f5"
      },
      "source": [
        "Let's say we want to perform statistical analysis on weather data for EstesPark, Colorado for the month of January 2023. The data is present at the website: https://www.estesparkweather.net/archive_reports.php?date=202301.\n",
        "\n",
        "We need to automatically scrape the website, extract relevant data, transform it and store it somewhere for further analysis.\n",
        "\n",
        "We would need the following Python libraries :\n",
        "\n",
        "**BeautifulSoup:** It is a powerful Python library for pulling out data from HTML/XML files. It creates a parse tree for parsed pages that can be used to extract data from HTML/XML files.\n",
        "\n",
        "**Requests:** It is a Python HTTP library. It makes HTTP requests simpler. we just need to add the URL as an argument and the get() gets all the information from it.\n",
        "\n",
        "**Pandas:** This is the library for loading and transforming data in Tablular format\n",
        "\n",
        "While \"requests\" is available by default, we would need to install **BeautifulSoup and Pandas**."
      ]
    },
    {
      "cell_type": "markdown",
      "id": "dd06e27b",
      "metadata": {
        "id": "dd06e27b"
      },
      "source": [
        "## 0. Open the website and look at the source\n",
        "\n",
        "1. Goto : https://www.estesparkweather.net/archive_reports.php?date=202308 (This is the data for the month of August 2023).\n",
        "2. Check the page carefully, what kind of data do you need to extract? What kind of values do they contain? Will the data help in your analysis going forward?\n",
        "3. Check the source (Typically RightClick->View Page Source). Where is your data of interest in the source? What HTML schema/format does data follow?"
      ]
    },
    {
      "cell_type": "markdown",
      "id": "ae3a9556",
      "metadata": {
        "id": "ae3a9556"
      },
      "source": [
        "## 1. Import libraries (install if needed)"
      ]
    },
    {
      "cell_type": "code",
      "execution_count": 3,
      "id": "e36bb7d4",
      "metadata": {
        "colab": {
          "base_uri": "https://localhost:8080/"
        },
        "id": "e36bb7d4",
        "outputId": "2aea2a5d-f9eb-429a-f2d9-a1da0d366add"
      },
      "outputs": [
        {
          "name": "stdout",
          "output_type": "stream",
          "text": [
            "BeautifulSoup and Pandas are already installed and imported\n"
          ]
        }
      ],
      "source": [
        "# Check if beautifulsoup and pandas are already installed\n",
        "# If not, install it and then import\n",
        "\n",
        "try:\n",
        "    from bs4 import BeautifulSoup\n",
        "    import pandas\n",
        "    print (\"BeautifulSoup and Pandas are already installed and imported\")\n",
        "except:\n",
        "    import sys\n",
        "    from bs4 import BeautifulSoup\n",
        "    import pandas\n",
        "    print (\"BeautifulSoup and Pandas were not found. Installed them and imported\")\n",
        "\n",
        "import requests"
      ]
    },
    {
      "cell_type": "markdown",
      "id": "713305e0",
      "metadata": {
        "id": "713305e0"
      },
      "source": [
        "## 2. Read the webpage and parse it with BeautifulSoup"
      ]
    },
    {
      "cell_type": "code",
      "execution_count": 4,
      "id": "1e080d0c",
      "metadata": {
        "colab": {
          "base_uri": "https://localhost:8080/"
        },
        "id": "1e080d0c",
        "outputId": "c64c98d1-39d3-4588-b26e-4c2282fb84b7"
      },
      "outputs": [
        {
          "name": "stdout",
          "output_type": "stream",
          "text": [
            "Webpage opened successfully...\n",
            "Webpage loaded and parsed successfully...\n"
          ]
        }
      ],
      "source": [
        "opened_webpage = requests.get(\"https://www.estesparkweather.net/archive_reports.php?date=202308\")\n",
        "print (\"Webpage opened successfully...\")\n",
        "\n",
        "# Initialize a BeautifulSoup object to read and parse the webpage read\n",
        "# This is like calling the __init__ function in BeautifulSoup\n",
        "bs = BeautifulSoup(opened_webpage.content, \"html.parser\")\n",
        "print (\"Webpage loaded and parsed successfully...\")"
      ]
    },
    {
      "cell_type": "markdown",
      "id": "66a65625",
      "metadata": {
        "id": "66a65625"
      },
      "source": [
        "## 3. Perform ETL\n",
        "\n",
        "In the previous class, we discussed ETL, which is a popular data pipeline paradigm. Briefly, the steps are:\n",
        "\n",
        "**a. Extract:** Get Data from Different Sources Efficiently\n",
        "\n",
        "**b. Transform:** Perform transformations / calculations on data\n",
        "\n",
        "**c. Load:** Load the data into the target storage\n",
        "\n",
        "\n",
        "\n",
        "\n",
        "\n",
        "\n"
      ]
    },
    {
      "cell_type": "markdown",
      "id": "8a22de60",
      "metadata": {
        "id": "8a22de60"
      },
      "source": [
        "### 3.1. Extract\n",
        "\n",
        "Let's extract the data of our interest from the webpage. See, how we are"
      ]
    },
    {
      "cell_type": "code",
      "execution_count": 5,
      "id": "5b822f1d",
      "metadata": {
        "colab": {
          "base_uri": "https://localhost:8080/"
        },
        "id": "5b822f1d",
        "outputId": "a7351df3-0539-48a4-dab2-04b503a8feb0",
        "scrolled": true
      },
      "outputs": [
        {
          "name": "stdout",
          "output_type": "stream",
          "text": [
            "['\\n\\nAug 1 Average and Extremes\\n\\n\\nAverage temperature 63.5°F\\n\\n\\nAverage humidity 69%\\n\\n\\nAverage dewpoint 51.3°F\\n\\n\\nAverage barometer 29.7 in.\\n\\n\\nAverage windspeed 4.4 mph\\n\\n\\nAverage gustspeed 7.0 mph\\n\\n\\nAverage direction 266° ( W )\\n\\n\\nRainfall for month 0.45 in.\\n\\n\\nRainfall for year 15.72 in.\\n\\n\\nMaximum rain per minute 0.02 in. on day 01 at time 15:46\\n\\n\\nMaximum temperature 80.8°F on day 01 at time 14:15\\n\\n\\nMinimum temperature 55.1°F on day 01 at time 23:06\\n\\n\\nMaximum humidity 93% on day 01 at time 22:58\\n\\n\\nMinimum humidity 32% on day 01 at time 14:20\\n\\n\\nMaximum pressure 29.815 in. on day 01 at time 18:03\\n\\n\\nMinimum pressure 29.667 in. on day 01 at time 14:40\\n\\n\\nMaximum windspeed 17.3 mph on day 01 at time 15:49\\n\\n\\nMaximum gust speed 24.2 mph  from 038 °( NE) on day 01 at time 04:14\\n\\n\\nMaximum heat index 79.9°F on day 01 at time 14:14\\n\\n', '\\n\\nAug 2 Average and Extremes\\n\\n\\nAverage temperature 63.6°F\\n\\n\\nAverage humidity 68%\\n\\n\\nAverage dewpoint 52.2°F\\n\\n\\nAverage barometer 29.8 in.\\n\\n\\nAverage windspeed 3.2 mph\\n\\n\\nAverage gustspeed 5.3 mph\\n\\n\\nAverage direction 294° (WNW)\\n\\n\\nRainfall for month 0.69 in.\\n\\n\\nRainfall for year 15.96 in.\\n\\n\\nMaximum rain per minute 0.01 in. on day 02 at time 19:43\\n\\n\\nMaximum temperature 74.1°F on day 02 at time 13:26\\n\\n\\nMinimum temperature 56.0°F on day 02 at time 00:25\\n\\n\\nMaximum humidity 91% on day 02 at time 14:28\\n\\n\\nMinimum humidity 44% on day 02 at time 13:20\\n\\n\\nMaximum pressure 29.826 in. on day 02 at time 14:09\\n\\n\\nMinimum pressure 29.711 in. on day 02 at time 18:18\\n\\n\\nMaximum windspeed 17.3 mph on day 02 at time 13:57\\n\\n\\nMaximum gust speed 25.3 mph  from 348 °(NNW) on day 02 at time 13:56\\n\\n\\nMaximum heat index 77.4°F on day 02 at time 13:26\\n\\n', '\\n\\nAug 3 Average and Extremes\\n\\n\\nAverage temperature 61.2°F\\n\\n\\nAverage humidity 72%\\n\\n\\nAverage dewpoint 50.4°F\\n\\n\\nAverage barometer 29.7 in.\\n\\n\\nAverage windspeed 3.5 mph\\n\\n\\nAverage gustspeed 5.8 mph\\n\\n\\nAverage direction 300° (WNW)\\n\\n\\nRainfall for month 0.86 in.\\n\\n\\nRainfall for year 16.13 in.\\n\\n\\nMaximum rain per minute 0.01 in. on day 03 at time 18:01\\n\\n\\nMaximum temperature 76.4°F on day 03 at time 15:06\\n\\n\\nMinimum temperature 49.0°F on day 03 at time 23:26\\n\\n\\nMaximum humidity 97% on day 03 at time 08:29\\n\\n\\nMinimum humidity 32% on day 03 at time 15:01\\n\\n\\nMaximum pressure 29.799 in. on day 03 at time 01:40\\n\\n\\nMinimum pressure 29.659 in. on day 03 at time 16:17\\n\\n\\nMaximum windspeed 13.8 mph on day 03 at time 16:32\\n\\n\\nMaximum gust speed 24.2 mph  from 164 °(SSE) on day 03 at time 16:30\\n\\n\\nMaximum heat index 78.1°F on day 03 at time 15:07\\n\\n', '\\n\\nAug 4 Average and Extremes\\n\\n\\nAverage temperature 61.2°F\\n\\n\\nAverage humidity 60%\\n\\n\\nAverage dewpoint 44.5°F\\n\\n\\nAverage barometer 29.8 in.\\n\\n\\nAverage windspeed 3.3 mph\\n\\n\\nAverage gustspeed 5.5 mph\\n\\n\\nAverage direction 275° ( W )\\n\\n\\nRainfall for month 0.89 in.\\n\\n\\nRainfall for year 16.16 in.\\n\\n\\nMaximum rain per minute 0.01 in. on day 04 at time 08:45\\n\\n\\nMaximum temperature 77.2°F on day 04 at time 17:04\\n\\n\\nMinimum temperature 45.6°F on day 04 at time 06:26\\n\\n\\nMaximum humidity 96% on day 04 at time 06:58\\n\\n\\nMinimum humidity 27% on day 04 at time 18:21\\n\\n\\nMaximum pressure 29.812 in. on day 04 at time 23:31\\n\\n\\nMinimum pressure 29.699 in. on day 04 at time 15:02\\n\\n\\nMaximum windspeed 18.4 mph on day 04 at time 17:24\\n\\n\\nMaximum gust speed 32.2 mph  from 270 °( W ) on day 04 at time 17:21\\n\\n\\nMaximum heat index 77.8°F on day 04 at time 16:50\\n\\n', '\\n\\nAug 5 Average and Extremes\\n\\n\\nAverage temperature 58.9°F\\n\\n\\nAverage humidity 61%\\n\\n\\nAverage dewpoint 43.1°F\\n\\n\\nAverage barometer 29.8 in.\\n\\n\\nAverage windspeed 4.1 mph\\n\\n\\nAverage gustspeed 6.4 mph\\n\\n\\nAverage direction 273° ( W )\\n\\n\\nRainfall for month 0.89 in.\\n\\n\\nRainfall for year 16.16 in.\\n\\n\\nMaximum rain per minute 0.00 in. on day 05 at time 23:59\\n\\n\\nMaximum temperature 78.7°F on day 05 at time 16:26\\n\\n\\nMinimum temperature 41.4°F on day 05 at time 06:16\\n\\n\\nMaximum humidity 92% on day 05 at time 23:59\\n\\n\\nMinimum humidity 24% on day 05 at time 15:40\\n\\n\\nMaximum pressure 29.942 in. on day 05 at time 23:20\\n\\n\\nMinimum pressure 29.762 in. on day 05 at time 16:14\\n\\n\\nMaximum windspeed 21.9 mph on day 05 at time 18:47\\n\\n\\nMaximum gust speed 33.4 mph  from 251 °(WSW) on day 05 at time 18:52\\n\\n\\nMaximum heat index 78.3°F on day 05 at time 16:26\\n\\n', '\\n\\nAug 6 Average and Extremes\\n\\n\\nAverage temperature 52.0°F\\n\\n\\nAverage humidity 92%\\n\\n\\nAverage dewpoint 49.7°F\\n\\n\\nAverage barometer 29.9 in.\\n\\n\\nAverage windspeed 2.1 mph\\n\\n\\nAverage gustspeed 3.6 mph\\n\\n\\nAverage direction 65° (ENE)\\n\\n\\nRainfall for month 0.90 in.\\n\\n\\nRainfall for year 16.17 in.\\n\\n\\nMaximum rain per minute 0.01 in. on day 06 at time 19:36\\n\\n\\nMaximum temperature 57.0°F on day 06 at time 12:33\\n\\n\\nMinimum temperature 45.5°F on day 06 at time 23:59\\n\\n\\nMaximum humidity 96% on day 06 at time 23:59\\n\\n\\nMinimum humidity 80% on day 06 at time 12:24\\n\\n\\nMaximum pressure 29.987 in. on day 06 at time 19:34\\n\\n\\nMinimum pressure 29.846 in. on day 06 at time 05:02\\n\\n\\nMaximum windspeed 9.2 mph on day 06 at time 19:08\\n\\n\\nMaximum gust speed 13.8 mph  from 194 °(SSW) on day 06 at time 16:59\\n\\n\\nMaximum heat index 57.0°F on day 06 at time 12:33\\n\\n', '\\n\\nAug 7 Average and Extremes\\n\\n\\nAverage temperature 54.6°F\\n\\n\\nAverage humidity 71%\\n\\n\\nAverage dewpoint 43.6°F\\n\\n\\nAverage barometer 29.9 in.\\n\\n\\nAverage windspeed 3.6 mph\\n\\n\\nAverage gustspeed 6.2 mph\\n\\n\\nAverage direction 292° (WNW)\\n\\n\\nRainfall for month 0.90 in.\\n\\n\\nRainfall for year 16.17 in.\\n\\n\\nMaximum rain per minute 0.00 in. on day 07 at time 23:59\\n\\n\\nMaximum temperature 74.5°F on day 07 at time 15:48\\n\\n\\nMinimum temperature 39.0°F on day 07 at time 05:57\\n\\n\\nMaximum humidity 98% on day 07 at time 07:36\\n\\n\\nMinimum humidity 33% on day 07 at time 15:46\\n\\n\\nMaximum pressure 29.983 in. on day 07 at time 06:49\\n\\n\\nMinimum pressure 29.813 in. on day 07 at time 18:28\\n\\n\\nMaximum windspeed 20.7 mph on day 07 at time 12:43\\n\\n\\nMaximum gust speed 39.1 mph  from 294 °(WNW) on day 07 at time 12:42\\n\\n\\nMaximum heat index 77.4°F on day 07 at time 15:01\\n\\n', '\\n\\nAug 8 Average and Extremes\\n\\n\\nAverage temperature 56.4°F\\n\\n\\nAverage humidity 68%\\n\\n\\nAverage dewpoint 44.2°F\\n\\n\\nAverage barometer 29.8 in.\\n\\n\\nAverage windspeed 2.1 mph\\n\\n\\nAverage gustspeed 3.6 mph\\n\\n\\nAverage direction 63° (ENE)\\n\\n\\nRainfall for month 0.90 in.\\n\\n\\nRainfall for year 16.17 in.\\n\\n\\nMaximum rain per minute 0.00 in. on day 08 at time 23:59\\n\\n\\nMaximum temperature 73.3°F on day 08 at time 13:47\\n\\n\\nMinimum temperature 39.9°F on day 08 at time 06:29\\n\\n\\nMaximum humidity 96% on day 08 at time 06:55\\n\\n\\nMinimum humidity 29% on day 08 at time 13:59\\n\\n\\nMaximum pressure 29.872 in. on day 08 at time 01:11\\n\\n\\nMinimum pressure 29.666 in. on day 08 at time 19:28\\n\\n\\nMaximum windspeed 12.7 mph on day 08 at time 14:22\\n\\n\\nMaximum gust speed 18.4 mph  from 03 °( N ) on day 08 at time 14:25\\n\\n\\nMaximum heat index 77.5°F on day 08 at time 12:00\\n\\n', '\\n\\nAug 9 Average and Extremes\\n\\n\\nAverage temperature 58.5°F\\n\\n\\nAverage humidity 62%\\n\\n\\nAverage dewpoint 43.8°F\\n\\n\\nAverage barometer 29.7 in.\\n\\n\\nAverage windspeed 2.9 mph\\n\\n\\nAverage gustspeed 5.1 mph\\n\\n\\nAverage direction 268° ( W )\\n\\n\\nRainfall for month 0.90 in.\\n\\n\\nRainfall for year 16.17 in.\\n\\n\\nMaximum rain per minute 0.00 in. on day 09 at time 23:59\\n\\n\\nMaximum temperature 72.3°F on day 09 at time 13:25\\n\\n\\nMinimum temperature 42.5°F on day 09 at time 06:27\\n\\n\\nMaximum humidity 93% on day 09 at time 06:00\\n\\n\\nMinimum humidity 31% on day 09 at time 13:15\\n\\n\\nMaximum pressure 29.749 in. on day 09 at time 00:00\\n\\n\\nMinimum pressure 29.645 in. on day 09 at time 17:21\\n\\n\\nMaximum windspeed 15.0 mph on day 09 at time 13:37\\n\\n\\nMaximum gust speed 20.7 mph  from 258 °(WSW) on day 09 at time 13:37\\n\\n\\nMaximum heat index 77.5°F on day 09 at time 14:52\\n\\n', '\\n\\nAug 10 Average and Extremes\\n\\n\\nAverage temperature 60.5°F\\n\\n\\nAverage humidity 56%\\n\\n\\nAverage dewpoint 41.4°F\\n\\n\\nAverage barometer 29.7 in.\\n\\n\\nAverage windspeed 3.9 mph\\n\\n\\nAverage gustspeed 6.4 mph\\n\\n\\nAverage direction 272° ( W )\\n\\n\\nRainfall for month 0.90 in.\\n\\n\\nRainfall for year 16.17 in.\\n\\n\\nMaximum rain per minute 0.00 in. on day 10 at time 23:59\\n\\n\\nMaximum temperature 79.4°F on day 10 at time 14:14\\n\\n\\nMinimum temperature 44.1°F on day 10 at time 07:31\\n\\n\\nMaximum humidity 93% on day 10 at time 08:20\\n\\n\\nMinimum humidity 22% on day 10 at time 15:20\\n\\n\\nMaximum pressure 29.711 in. on day 10 at time 08:08\\n\\n\\nMinimum pressure 29.625 in. on day 10 at time 15:07\\n\\n\\nMaximum windspeed 21.9 mph on day 10 at time 15:36\\n\\n\\nMaximum gust speed 31.1 mph  from 237 °(WSW) on day 10 at time 15:33\\n\\n\\nMaximum heat index 78.5°F on day 10 at time 14:13\\n\\n', '\\n\\nAug 11 Average and Extremes\\n\\n\\nAverage temperature 67.5°F\\n\\n\\nAverage humidity 42%\\n\\n\\nAverage dewpoint 43.1°F\\n\\n\\nAverage barometer 29.6 in.\\n\\n\\nAverage windspeed 4.9 mph\\n\\n\\nAverage gustspeed 7.9 mph\\n\\n\\nAverage direction 261° ( W )\\n\\n\\nRainfall for month 0.90 in.\\n\\n\\nRainfall for year 16.17 in.\\n\\n\\nMaximum rain per minute 0.00 in. on day 11 at time 23:59\\n\\n\\nMaximum temperature 82.6°F on day 11 at time 14:32\\n\\n\\nMinimum temperature 56.8°F on day 11 at time 00:00\\n\\n\\nMaximum humidity 63% on day 11 at time 23:53\\n\\n\\nMinimum humidity 21% on day 11 at time 14:34\\n\\n\\nMaximum pressure 29.699 in. on day 11 at time 00:02\\n\\n\\nMinimum pressure 29.595 in. on day 11 at time 16:50\\n\\n\\nMaximum windspeed 15.0 mph on day 11 at time 17:41\\n\\n\\nMaximum gust speed 23.0 mph  from 273 °( W ) on day 11 at time 17:40\\n\\n\\nMaximum heat index 80.6°F on day 11 at time 14:31\\n\\n', '\\n\\nAug 12 Average and Extremes\\n\\n\\nAverage temperature 63.3°F\\n\\n\\nAverage humidity 58%\\n\\n\\nAverage dewpoint 48.2°F\\n\\n\\nAverage barometer 29.7 in.\\n\\n\\nAverage windspeed 1.7 mph\\n\\n\\nAverage gustspeed 2.8 mph\\n\\n\\nAverage direction 319° ( NW)\\n\\n\\nRainfall for month 0.90 in.\\n\\n\\nRainfall for year 16.17 in.\\n\\n\\nMaximum rain per minute 0.00 in. on day 12 at time 23:59\\n\\n\\nMaximum temperature 72.0°F on day 12 at time 10:15\\n\\n\\nMinimum temperature 55.8°F on day 12 at time 04:10\\n\\n\\nMaximum humidity 79% on day 12 at time 13:46\\n\\n\\nMinimum humidity 42% on day 12 at time 10:20\\n\\n\\nMaximum pressure 29.727 in. on day 12 at time 14:59\\n\\n\\nMinimum pressure 29.649 in. on day 12 at time 00:47\\n\\n\\nMaximum windspeed 6.9 mph on day 12 at time 22:42\\n\\n\\nMaximum gust speed 12.7 mph  from 267 °( W ) on day 12 at time 22:43\\n\\n\\nMaximum heat index 77.1°F on day 12 at time 16:53\\n\\n', '\\n\\nAug 13 Average and Extremes\\n\\n\\nAverage temperature 57.0°F\\n\\n\\nAverage humidity 67%\\n\\n\\nAverage dewpoint 45.8°F\\n\\n\\nAverage barometer 29.8 in.\\n\\n\\nAverage windspeed 2.6 mph\\n\\n\\nAverage gustspeed 4.5 mph\\n\\n\\nAverage direction 58° (ENE)\\n\\n\\nRainfall for month 0.90 in.\\n\\n\\nRainfall for year 16.17 in.\\n\\n\\nMaximum rain per minute 0.00 in. on day 13 at time 23:59\\n\\n\\nMaximum temperature 63.8°F on day 13 at time 00:00\\n\\n\\nMinimum temperature 50.3°F on day 13 at time 23:59\\n\\n\\nMaximum humidity 79% on day 13 at time 20:04\\n\\n\\nMinimum humidity 49% on day 13 at time 05:42\\n\\n\\nMaximum pressure 30.031 in. on day 13 at time 23:52\\n\\n\\nMinimum pressure 29.675 in. on day 13 at time 04:00\\n\\n\\nMaximum windspeed 10.4 mph on day 13 at time 06:27\\n\\n\\nMaximum gust speed 15.0 mph  from 030 °(NNE) on day 13 at time 10:15\\n\\n\\nMaximum heat index 63.8°F on day 13 at time 00:00\\n\\n', '\\n\\nAug 14 Average and Extremes\\n\\n\\nAverage temperature 55.4°F\\n\\n\\nAverage humidity 66%\\n\\n\\nAverage dewpoint 43.4°F\\n\\n\\nAverage barometer 30.1 in.\\n\\n\\nAverage windspeed 1.7 mph\\n\\n\\nAverage gustspeed 3.3 mph\\n\\n\\nAverage direction 88° ( E )\\n\\n\\nRainfall for month 0.90 in.\\n\\n\\nRainfall for year 16.17 in.\\n\\n\\nMaximum rain per minute 0.00 in. on day 14 at time 23:59\\n\\n\\nMaximum temperature 68.2°F on day 14 at time 14:56\\n\\n\\nMinimum temperature 38.8°F on day 14 at time 06:42\\n\\n\\nMaximum humidity 94% on day 14 at time 06:59\\n\\n\\nMinimum humidity 44% on day 14 at time 11:41\\n\\n\\nMaximum pressure 30.140 in. on day 14 at time 08:56\\n\\n\\nMinimum pressure 30.010 in. on day 14 at time 16:00\\n\\n\\nMaximum windspeed 10.4 mph on day 14 at time 16:00\\n\\n\\nMaximum gust speed 18.4 mph  from 125 °( SE) on day 14 at time 16:00\\n\\n\\nMaximum heat index 77.4°F on day 14 at time 15:52\\n\\n', '\\n\\nAug 15 Average and Extremes\\n\\n\\nAverage temperature 61.5°F\\n\\n\\nAverage humidity 54%\\n\\n\\nAverage dewpoint 40.0°F\\n\\n\\nAverage barometer 30.0 in.\\n\\n\\nAverage windspeed 1.7 mph\\n\\n\\nAverage gustspeed 3.1 mph\\n\\n\\nAverage direction 103° (ESE)\\n\\n\\nRainfall for month 0.90 in.\\n\\n\\nRainfall for year 16.17 in.\\n\\n\\nMaximum rain per minute 0.00 in. on day 15 at time 23:59\\n\\n\\nMaximum temperature 83.9°F on day 15 at time 12:36\\n\\n\\nMinimum temperature 38.0°F on day 15 at time 06:38\\n\\n\\nMaximum humidity 95% on day 15 at time 07:09\\n\\n\\nMinimum humidity 15% on day 15 at time 12:56\\n\\n\\nMaximum pressure 30.064 in. on day 15 at time 02:05\\n\\n\\nMinimum pressure 29.863 in. on day 15 at time 19:02\\n\\n\\nMaximum windspeed 12.7 mph on day 15 at time 11:42\\n\\n\\nMaximum gust speed 16.1 mph  from 360 °( N ) on day 15 at time 11:42\\n\\n\\nMaximum heat index 81.3°F on day 15 at time 12:33\\n\\n', '\\n\\nAug 16 Average and Extremes\\n\\n\\nAverage temperature 66.9°F\\n\\n\\nAverage humidity 47%\\n\\n\\nAverage dewpoint 42.9°F\\n\\n\\nAverage barometer 29.8 in.\\n\\n\\nAverage windspeed 3.1 mph\\n\\n\\nAverage gustspeed 5.1 mph\\n\\n\\nAverage direction 282° (WNW)\\n\\n\\nRainfall for month 0.90 in.\\n\\n\\nRainfall for year 16.17 in.\\n\\n\\nMaximum rain per minute 0.00 in. on day 16 at time 23:59\\n\\n\\nMaximum temperature 86.4°F on day 16 at time 15:05\\n\\n\\nMinimum temperature 44.4°F on day 16 at time 05:44\\n\\n\\nMaximum humidity 83% on day 16 at time 06:45\\n\\n\\nMinimum humidity 19% on day 16 at time 15:06\\n\\n\\nMaximum pressure 29.873 in. on day 16 at time 00:36\\n\\n\\nMinimum pressure 29.662 in. on day 16 at time 17:37\\n\\n\\nMaximum windspeed 13.8 mph on day 16 at time 11:26\\n\\n\\nMaximum gust speed 21.9 mph  from 262 °( W ) on day 16 at time 11:15\\n\\n\\nMaximum heat index 83.5°F on day 16 at time 16:13\\n\\n', '\\n\\nAug 17 Average and Extremes\\n\\n\\nAverage temperature 65.7°F\\n\\n\\nAverage humidity 55%\\n\\n\\nAverage dewpoint 47.6°F\\n\\n\\nAverage barometer 29.7 in.\\n\\n\\nAverage windspeed 2.1 mph\\n\\n\\nAverage gustspeed 4.0 mph\\n\\n\\nAverage direction 105° (ESE)\\n\\n\\nRainfall for month 0.90 in.\\n\\n\\nRainfall for year 16.17 in.\\n\\n\\nMaximum rain per minute 0.00 in. on day 17 at time 23:59\\n\\n\\nMaximum temperature 81.7°F on day 17 at time 14:41\\n\\n\\nMinimum temperature 46.3°F on day 17 at time 05:53\\n\\n\\nMaximum humidity 82% on day 17 at time 06:21\\n\\n\\nMinimum humidity 27% on day 17 at time 14:32\\n\\n\\nMaximum pressure 29.780 in. on day 17 at time 07:30\\n\\n\\nMinimum pressure 29.640 in. on day 17 at time 20:00\\n\\n\\nMaximum windspeed 12.7 mph on day 17 at time 23:27\\n\\n\\nMaximum gust speed 19.6 mph  from 272 °( W ) on day 17 at time 23:57\\n\\n\\nMaximum heat index 80.6°F on day 17 at time 14:27\\n\\n', '\\n\\nAug 18 Average and Extremes\\n\\n\\nAverage temperature 71.4°F\\n\\n\\nAverage humidity 42%\\n\\n\\nAverage dewpoint 47.0°F\\n\\n\\nAverage barometer 29.6 in.\\n\\n\\nAverage windspeed 7.4 mph\\n\\n\\nAverage gustspeed 12.0 mph\\n\\n\\nAverage direction 266° ( W )\\n\\n\\nRainfall for month 0.91 in.\\n\\n\\nRainfall for year 16.18 in.\\n\\n\\nMaximum rain per minute 0.01 in. on day 18 at time 14:28\\n\\n\\nMaximum temperature 83.6°F on day 18 at time 13:50\\n\\n\\nMinimum temperature 64.9°F on day 18 at time 22:47\\n\\n\\nMaximum humidity 57% on day 18 at time 15:17\\n\\n\\nMinimum humidity 31% on day 18 at time 13:54\\n\\n\\nMaximum pressure 29.644 in. on day 18 at time 00:01\\n\\n\\nMinimum pressure 29.485 in. on day 18 at time 13:52\\n\\n\\nMaximum windspeed 18.4 mph on day 18 at time 16:29\\n\\n\\nMaximum gust speed 27.6 mph  from 246 °(WSW) on day 18 at time 05:47\\n\\n\\nMaximum heat index 82.0°F on day 18 at time 13:49\\n\\n', '\\n\\nAug 19 Average and Extremes\\n\\n\\nAverage temperature 65.3°F\\n\\n\\nAverage humidity 59%\\n\\n\\nAverage dewpoint 49.1°F\\n\\n\\nAverage barometer 29.7 in.\\n\\n\\nAverage windspeed 3.4 mph\\n\\n\\nAverage gustspeed 5.5 mph\\n\\n\\nAverage direction 265° ( W )\\n\\n\\nRainfall for month 1.25 in.\\n\\n\\nRainfall for year 16.52 in.\\n\\n\\nMaximum rain per minute 0.04 in. on day 19 at time 14:20\\n\\n\\nMaximum temperature 82.0°F on day 19 at time 13:08\\n\\n\\nMinimum temperature 53.0°F on day 19 at time 23:00\\n\\n\\nMaximum humidity 91% on day 19 at time 23:07\\n\\n\\nMinimum humidity 24% on day 19 at time 13:10\\n\\n\\nMaximum pressure 29.828 in. on day 19 at time 22:53\\n\\n\\nMinimum pressure 29.591 in. on day 19 at time 00:03\\n\\n\\nMaximum windspeed 24.2 mph on day 19 at time 14:14\\n\\n\\nMaximum gust speed 34.5 mph  from 207 °(SSW) on day 19 at time 14:12\\n\\n\\nMaximum heat index 80.2°F on day 19 at time 13:08\\n\\n', '\\n\\nAug 20 Average and Extremes\\n\\n\\nAverage temperature 63.9°F\\n\\n\\nAverage humidity 69%\\n\\n\\nAverage dewpoint 52.3°F\\n\\n\\nAverage barometer 29.8 in.\\n\\n\\nAverage windspeed 1.7 mph\\n\\n\\nAverage gustspeed 3.2 mph\\n\\n\\nAverage direction 62° (ENE)\\n\\n\\nRainfall for month 1.25 in.\\n\\n\\nRainfall for year 16.52 in.\\n\\n\\nMaximum rain per minute 0.00 in. on day 20 at time 23:59\\n\\n\\nMaximum temperature 78.1°F on day 20 at time 13:43\\n\\n\\nMinimum temperature 47.8°F on day 20 at time 06:49\\n\\n\\nMaximum humidity 96% on day 20 at time 07:13\\n\\n\\nMinimum humidity 39% on day 20 at time 18:53\\n\\n\\nMaximum pressure 29.893 in. on day 20 at time 07:00\\n\\n\\nMinimum pressure 29.773 in. on day 20 at time 18:13\\n\\n\\nMaximum windspeed 10.4 mph on day 20 at time 13:54\\n\\n\\nMaximum gust speed 19.6 mph  from 060 °(ENE) on day 20 at time 13:44\\n\\n\\nMaximum heat index 79.0°F on day 20 at time 13:41\\n\\n', '\\n\\nAug 21 Average and Extremes\\n\\n\\nAverage temperature 66.5°F\\n\\n\\nAverage humidity 48%\\n\\n\\nAverage dewpoint 40.9°F\\n\\n\\nAverage barometer 29.8 in.\\n\\n\\nAverage windspeed 2.5 mph\\n\\n\\nAverage gustspeed 4.4 mph\\n\\n\\nAverage direction 213° (SSW)\\n\\n\\nRainfall for month 1.25 in.\\n\\n\\nRainfall for year 16.52 in.\\n\\n\\nMaximum rain per minute 0.00 in. on day 21 at time 23:59\\n\\n\\nMaximum temperature 88.2°F on day 21 at time 13:09\\n\\n\\nMinimum temperature 43.2°F on day 21 at time 06:33\\n\\n\\nMaximum humidity 89% on day 21 at time 07:00\\n\\n\\nMinimum humidity 11% on day 21 at time 12:38\\n\\n\\nMaximum pressure 29.878 in. on day 21 at time 06:37\\n\\n\\nMinimum pressure 29.751 in. on day 21 at time 19:12\\n\\n\\nMaximum windspeed 12.7 mph on day 21 at time 17:29\\n\\n\\nMaximum gust speed 19.6 mph  from 093 °( E ) on day 21 at time 17:30\\n\\n\\nMaximum heat index 84.5°F on day 21 at time 13:07\\n\\n', '\\n\\nAug 22 Average and Extremes\\n\\n\\nAverage temperature 69.9°F\\n\\n\\nAverage humidity 38%\\n\\n\\nAverage dewpoint 41.8°F\\n\\n\\nAverage barometer 29.7 in.\\n\\n\\nAverage windspeed 3.3 mph\\n\\n\\nAverage gustspeed 5.9 mph\\n\\n\\nAverage direction 236° ( SW)\\n\\n\\nRainfall for month 1.25 in.\\n\\n\\nRainfall for year 16.52 in.\\n\\n\\nMaximum rain per minute 0.00 in. on day 22 at time 23:59\\n\\n\\nMaximum temperature 81.6°F on day 22 at time 14:12\\n\\n\\nMinimum temperature 53.5°F on day 22 at time 01:41\\n\\n\\nMaximum humidity 65% on day 22 at time 23:59\\n\\n\\nMinimum humidity 24% on day 22 at time 14:14\\n\\n\\nMaximum pressure 29.792 in. on day 22 at time 02:18\\n\\n\\nMinimum pressure 29.676 in. on day 22 at time 18:57\\n\\n\\nMaximum windspeed 11.5 mph on day 22 at time 18:03\\n\\n\\nMaximum gust speed 18.4 mph  from 187 °( S ) on day 22 at time 14:42\\n\\n\\nMaximum heat index 80.0°F on day 22 at time 14:37\\n\\n', '\\n\\nAug 23 Average and Extremes\\n\\n\\nAverage temperature 65.2°F\\n\\n\\nAverage humidity 54%\\n\\n\\nAverage dewpoint 46.7°F\\n\\n\\nAverage barometer 29.8 in.\\n\\n\\nAverage windspeed 2.3 mph\\n\\n\\nAverage gustspeed 4.0 mph\\n\\n\\nAverage direction 278° ( W )\\n\\n\\nRainfall for month 1.27 in.\\n\\n\\nRainfall for year 16.54 in.\\n\\n\\nMaximum rain per minute 0.01 in. on day 23 at time 16:40\\n\\n\\nMaximum temperature 79.5°F on day 23 at time 17:16\\n\\n\\nMinimum temperature 49.3°F on day 23 at time 03:57\\n\\n\\nMaximum humidity 80% on day 23 at time 15:18\\n\\n\\nMinimum humidity 28% on day 23 at time 11:13\\n\\n\\nMaximum pressure 29.813 in. on day 23 at time 06:56\\n\\n\\nMinimum pressure 29.726 in. on day 23 at time 00:01\\n\\n\\nMaximum windspeed 12.7 mph on day 23 at time 14:58\\n\\n\\nMaximum gust speed 17.3 mph  from 227 °( SW) on day 23 at time 14:58\\n\\n\\nMaximum heat index 79.3°F on day 23 at time 17:23\\n\\n', '\\n\\nAug 24 Average and Extremes\\n\\n\\nAverage temperature 63.4°F\\n\\n\\nAverage humidity 69%\\n\\n\\nAverage dewpoint 52.2°F\\n\\n\\nAverage barometer 29.7 in.\\n\\n\\nAverage windspeed 2.5 mph\\n\\n\\nAverage gustspeed 4.2 mph\\n\\n\\nAverage direction 294° (WNW)\\n\\n\\nRainfall for month 1.66 in.\\n\\n\\nRainfall for year 16.93 in.\\n\\n\\nMaximum rain per minute 0.01 in. on day 24 at time 21:36\\n\\n\\nMaximum temperature 79.6°F on day 24 at time 11:47\\n\\n\\nMinimum temperature 55.4°F on day 24 at time 23:04\\n\\n\\nMaximum humidity 94% on day 24 at time 22:56\\n\\n\\nMinimum humidity 37% on day 24 at time 12:12\\n\\n\\nMaximum pressure 29.816 in. on day 24 at time 21:24\\n\\n\\nMinimum pressure 29.650 in. on day 24 at time 17:16\\n\\n\\nMaximum windspeed 13.8 mph on day 24 at time 13:12\\n\\n\\nMaximum gust speed 19.6 mph  from 307 °( NW) on day 24 at time 13:10\\n\\n\\nMaximum heat index 79.6°F on day 24 at time 11:43\\n\\n', '\\n\\nAug 25 Average and Extremes\\n\\n\\nAverage temperature 54.2°F\\n\\n\\nAverage humidity 94%\\n\\n\\nAverage dewpoint 52.3°F\\n\\n\\nAverage barometer 29.9 in.\\n\\n\\nAverage windspeed 1.1 mph\\n\\n\\nAverage gustspeed 2.1 mph\\n\\n\\nAverage direction 40° ( NE)\\n\\n\\nRainfall for month 1.97 in.\\n\\n\\nRainfall for year 17.24 in.\\n\\n\\nMaximum rain per minute 0.01 in. on day 25 at time 22:13\\n\\n\\nMaximum temperature 57.5°F on day 25 at time 09:54\\n\\n\\nMinimum temperature 51.3°F on day 25 at time 16:52\\n\\n\\nMaximum humidity 97% on day 25 at time 23:59\\n\\n\\nMinimum humidity 85% on day 25 at time 01:07\\n\\n\\nMaximum pressure 30.077 in. on day 25 at time 21:30\\n\\n\\nMinimum pressure 29.761 in. on day 25 at time 02:14\\n\\n\\nMaximum windspeed 8.1 mph on day 25 at time 11:13\\n\\n\\nMaximum gust speed 16.1 mph  from 021 °(NNE) on day 25 at time 16:18\\n\\n\\nMaximum heat index 57.5°F on day 25 at time 09:54\\n\\n', '\\n\\nAug 26 Average and Extremes\\n\\n\\nAverage temperature 56.5°F\\n\\n\\nAverage humidity 89%\\n\\n\\nAverage dewpoint 53.2°F\\n\\n\\nAverage barometer 30.0 in.\\n\\n\\nAverage windspeed 1.0 mph\\n\\n\\nAverage gustspeed 2.1 mph\\n\\n\\nAverage direction 78° (ENE)\\n\\n\\nRainfall for month 2.02 in.\\n\\n\\nRainfall for year 17.29 in.\\n\\n\\nMaximum rain per minute 0.01 in. on day 26 at time 18:32\\n\\n\\nMaximum temperature 66.4°F on day 26 at time 15:23\\n\\n\\nMinimum temperature 50.1°F on day 26 at time 05:29\\n\\n\\nMaximum humidity 97% on day 26 at time 07:06\\n\\n\\nMinimum humidity 71% on day 26 at time 15:27\\n\\n\\nMaximum pressure 30.058 in. on day 26 at time 00:01\\n\\n\\nMinimum pressure 29.902 in. on day 26 at time 18:10\\n\\n\\nMaximum windspeed 6.9 mph on day 26 at time 17:31\\n\\n\\nMaximum gust speed 11.5 mph  from 012 °(NNE) on day 26 at time 17:30\\n\\n\\nMaximum heat index 66.4°F on day 26 at time 15:23\\n\\n', '\\n\\nAug 27 Average and Extremes\\n\\n\\nAverage temperature 58.0°F\\n\\n\\nAverage humidity 85%\\n\\n\\nAverage dewpoint 52.6°F\\n\\n\\nAverage barometer 29.9 in.\\n\\n\\nAverage windspeed 1.7 mph\\n\\n\\nAverage gustspeed 3.0 mph\\n\\n\\nAverage direction 349° ( N )\\n\\n\\nRainfall for month 2.99 in.\\n\\n\\nRainfall for year 18.26 in.\\n\\n\\nMaximum rain per minute 0.05 in. on day 27 at time 14:18\\n\\n\\nMaximum temperature 76.0°F on day 27 at time 11:40\\n\\n\\nMinimum temperature 47.4°F on day 27 at time 05:36\\n\\n\\nMaximum humidity 98% on day 27 at time 08:10\\n\\n\\nMinimum humidity 40% on day 27 at time 10:52\\n\\n\\nMaximum pressure 29.924 in. on day 27 at time 21:38\\n\\n\\nMinimum pressure 29.797 in. on day 27 at time 14:03\\n\\n\\nMaximum windspeed 15.0 mph on day 27 at time 15:33\\n\\n\\nMaximum gust speed 19.6 mph  from 359 °( N ) on day 27 at time 15:37\\n\\n\\nMaximum heat index 78.0°F on day 27 at time 11:40\\n\\n', '\\n\\nAug 28 Average and Extremes\\n\\n\\nAverage temperature 53.6°F\\n\\n\\nAverage humidity 89%\\n\\n\\nAverage dewpoint 50.2°F\\n\\n\\nAverage barometer 29.9 in.\\n\\n\\nAverage windspeed 1.7 mph\\n\\n\\nAverage gustspeed 3.1 mph\\n\\n\\nAverage direction 11° ( N )\\n\\n\\nRainfall for month 3.79 in.\\n\\n\\nRainfall for year 19.06 in.\\n\\n\\nMaximum rain per minute 0.07 in. on day 28 at time 15:30\\n\\n\\nMaximum temperature 66.3°F on day 28 at time 14:53\\n\\n\\nMinimum temperature 45.3°F on day 28 at time 06:12\\n\\n\\nMaximum humidity 98% on day 28 at time 09:09\\n\\n\\nMinimum humidity 63% on day 28 at time 15:13\\n\\n\\nMaximum pressure 30.063 in. on day 28 at time 21:51\\n\\n\\nMinimum pressure 29.875 in. on day 28 at time 05:25\\n\\n\\nMaximum windspeed 21.9 mph on day 28 at time 15:23\\n\\n\\nMaximum gust speed 29.9 mph  from 04 °( N ) on day 28 at time 15:22\\n\\n\\nMaximum heat index 66.3°F on day 28 at time 14:53\\n\\n', '\\n\\nAug 29 Average and Extremes\\n\\n\\nAverage temperature 55.3°F\\n\\n\\nAverage humidity 76%\\n\\n\\nAverage dewpoint 46.7°F\\n\\n\\nAverage barometer 30.0 in.\\n\\n\\nAverage windspeed 1.1 mph\\n\\n\\nAverage gustspeed 2.3 mph\\n\\n\\nAverage direction 89° ( E )\\n\\n\\nRainfall for month 3.81 in.\\n\\n\\nRainfall for year 19.08 in.\\n\\n\\nMaximum rain per minute 0.01 in. on day 29 at time 07:03\\n\\n\\nMaximum temperature 69.6°F on day 29 at time 15:51\\n\\n\\nMinimum temperature 39.6°F on day 29 at time 06:49\\n\\n\\nMaximum humidity 98% on day 29 at time 08:09\\n\\n\\nMinimum humidity 48% on day 29 at time 14:18\\n\\n\\nMaximum pressure 30.126 in. on day 29 at time 06:58\\n\\n\\nMinimum pressure 29.941 in. on day 29 at time 23:59\\n\\n\\nMaximum windspeed 6.9 mph on day 29 at time 12:31\\n\\n\\nMaximum gust speed 13.8 mph  from 066 °(ENE) on day 29 at time 12:48\\n\\n\\nMaximum heat index 77.3°F on day 29 at time 13:07\\n\\n', '\\n\\nAug 30 Average and Extremes\\n\\n\\nAverage temperature 62.6°F\\n\\n\\nAverage humidity 56%\\n\\n\\nAverage dewpoint 42.2°F\\n\\n\\nAverage barometer 29.8 in.\\n\\n\\nAverage windspeed 4.2 mph\\n\\n\\nAverage gustspeed 6.6 mph\\n\\n\\nAverage direction 250° (WSW)\\n\\n\\nRainfall for month 3.81 in.\\n\\n\\nRainfall for year 19.08 in.\\n\\n\\nMaximum rain per minute 0.00 in. on day 30 at time 23:59\\n\\n\\nMaximum temperature 81.5°F on day 30 at time 16:03\\n\\n\\nMinimum temperature 41.3°F on day 30 at time 06:47\\n\\n\\nMaximum humidity 97% on day 30 at time 07:38\\n\\n\\nMinimum humidity 22% on day 30 at time 18:40\\n\\n\\nMaximum pressure 29.941 in. on day 30 at time 00:00\\n\\n\\nMinimum pressure 29.613 in. on day 30 at time 19:35\\n\\n\\nMaximum windspeed 17.3 mph on day 30 at time 13:46\\n\\n\\nMaximum gust speed 27.6 mph  from 267 °( W ) on day 30 at time 13:36\\n\\n\\nMaximum heat index 79.9°F on day 30 at time 16:02\\n\\n', '\\n\\nAug 31 Average and Extremes\\n\\n\\nAverage temperature 63.5°F\\n\\n\\nAverage humidity 46%\\n\\n\\nAverage dewpoint 37.7°F\\n\\n\\nAverage barometer 29.6 in.\\n\\n\\nAverage windspeed 3.5 mph\\n\\n\\nAverage gustspeed 5.5 mph\\n\\n\\nAverage direction 245° (WSW)\\n\\n\\nRainfall for month 3.81 in.\\n\\n\\nRainfall for year 19.08 in.\\n\\n\\nMaximum rain per minute 0.00 in. on day 31 at time 23:57\\n\\n\\nMaximum temperature 82.6°F on day 31 at time 16:20\\n\\n\\nMinimum temperature 42.8°F on day 31 at time 06:48\\n\\n\\nMaximum humidity 84% on day 31 at time 06:57\\n\\n\\nMinimum humidity 13% on day 31 at time 17:02\\n\\n\\nMaximum pressure 29.667 in. on day 31 at time 22:01\\n\\n\\nMinimum pressure 29.591 in. on day 31 at time 15:56\\n\\n\\nMaximum windspeed 17.3 mph on day 31 at time 13:57\\n\\n\\nMaximum gust speed 24.2 mph  from 254 °(WSW) on day 31 at time 13:57\\n\\n\\nMaximum heat index 80.2°F on day 31 at time 16:20\\n\\n', '\\n\\nAverage and Extremes for Month of August 2023 up to day 31\\n\\n\\nAverage temperature 61.2°F\\n\\n\\nAverage humidity 64%\\n\\n\\nAverage dewpoint 46.5°F\\n\\n\\nAverage barometer 29.796 in.\\n\\n\\nAverage windspeed 2.8 mph\\n\\n\\nAverage gustspeed 4.8 mph\\n\\n\\nAverage direction 275° ( W )\\n\\n\\nRainfall for month 3.776 in.\\n\\n\\nRainfall for year 15.268 in.\\n\\n\\nMaximum rain per minute 0.070 in on day 28 at time 15:30\\n\\n\\nMaximum temperature 88.2°F on day 21 at time 13:09\\n\\n\\nMinimum temperature 38.0°F on day 15 at time 06:38\\n\\n\\nMaximum humidity 98% on day 29 at time 08:09\\n\\n\\nMinimum humidity 11% on day 21 at time 12:38\\n\\n\\nMaximum pressure 30.14 in. on day 14 at time 08:56\\n\\n\\nMinimum pressure 29.48 in. on day 18 at time 13:52\\n\\n\\nMaximum windspeed 24.2 mph from 207°(SSW) on day 19 at time 14:14\\n\\n\\nMaximum gust speed 39.1 mph from 293°(WNW) on day 07 at time 12:42\\n\\n\\nMaximum heat index 84.5°F on day 21 at time 13:07\\n\\n\\nAvg daily max temp76.0°F\\n\\n\\nAvg daily min temp47.5°F\\n\\n\\nGrowing degrees days459.3 GDD\\n\\n', '\\n\\nDaily Rain Totals\\n\\n\\n00.45 in.  on day 1\\n\\n\\n00.24 in.  on day 2\\n\\n\\n00.17 in.  on day 3\\n\\n\\n00.03 in.  on day 4\\n\\n\\n00.01 in.  on day 6\\n\\n\\n00.01 in.  on day 18\\n\\n\\n00.34 in.  on day 19\\n\\n\\n00.02 in.  on day 23\\n\\n\\n00.39 in.  on day 24\\n\\n\\n00.31 in.  on day 25\\n\\n\\n00.05 in.  on day 26\\n\\n\\n00.97 in.  on day 27\\n\\n\\n00.80 in.  on day 28\\n\\n\\n00.02 in.  on day 29\\n\\n', '\\n\\n\\n\\n @\\n21-Sep-2023 2:30pm\\n\\n\\n\\n\\n\\t  [Enable JavaScript for live updates]\\n\\n\\n\\n\\n\\t63.5\\n °F \\n\\n\\n\\n\\n\\xa0DryDay time\\t\\n\\n\\nFeels Like:\\n64°F\\n\\n\\nHumidity:\\n40%\\n\\n\\nDew Point:\\n38.7°F\\n\\n\\nWind\\n\\nSE@\\n5.6\\xa0mph\\n\\n\\nGust:\\n5.0\\xa0mph\\n\\n\\nPressure:\\n29.71 in\\n\\n\\n\\n\\n\\n\\nRain Today:\\n0.00 in\\n\\n\\nRain Rate:\\n0.000 in\\n\\n\\nStorm Rain:\\n in\\n\\n\\nRain Month:\\n0.74 in\\n\\n\\nRain Year:\\n16.15 in\\n\\n', '\\n\\nThisAfternoonSlight ChanceT-stormsHi 67  °F \\nTonightSlight ChanceT-storms thenMostly ClearLo 38  °F \\n\\n', '\\n\\nSunrise:\\n6:48 am\\n\\n\\nSunset:\\n7:02 pm\\n\\n\\nMoonrise:\\n1:40 pm\\n\\n\\nMoonset:\\n9:43 pm\\n\\n\\n\\n\\n\\n\\n\\n\\n\\n\\n\\n40%\\n              Illuminated\\n\\n\\n\\n\\n', '\\n\\n\\n\\n\\n\\n\\n\\n40%\\n              Illuminated\\n\\n', '\\n\\nTemp Hi:\\n66.8°F               \\n              12:34pm\\n\\n\\nTemp Lo:\\n35.5°F               \\n              6:20am\\n\\n\\nHigh Wind Speed:\\n23.0 mph\\n      10:02am\\n\\n\\n\\n\\n\\nHigh Rain Rate:\\n0.000in/min\\n      12:00am\\n\\n\\nHigh Hourly\\n      Rain Rate:\\n0.000 in/hr\\n\\n', '\\n\\nElevation:\\n0 ft\\n\\n\\nLatitude:\\n40:23:00N\\n\\n\\nLongitude:\\n105:29:00W\\n\\n', '\\n\\nQuote from the patron saint of the webmaster, St. Alphonsus Liguori : \\n\"My Jesus, Thou alone   art sufficient for me.\\xa0 My love, do not permit me to separate myself from Thee.\\xa0   When shall I be able to say, \\'My God, I cannot lose thee any more?\\'  \" \\n\\xa0©2007 EstesParkWeather.net and ExceptionalWeather.com. EstesParkWeather.net is part of the ExceptionalWeather Network\\nRadar/maps © Weather Underground. Used with permission. \\xa0\\xa0  Valid XHTML 1.0 \\xa0\\xa0\\xa0  Valid CSS \\n    Never base important decisions on this or any weather information obtained from the Internet. \\n\\n']\n"
          ]
        }
      ],
      "source": [
        "# Define an empty list where the data will be kept\n",
        "raw_data = []\n",
        "\n",
        "# Find all the tables in the webpage page that we have just parsed\n",
        "table = bs.find_all(\"table\")\n",
        "\n",
        "for row in table:\n",
        "    line = row.text\n",
        "    raw_data.append(line)\n",
        "\n",
        "print(raw_data)"
      ]
    },
    {
      "cell_type": "markdown",
      "id": "48c31a44",
      "metadata": {
        "id": "48c31a44"
      },
      "source": [
        "### 3.2. Transform\n",
        "\n",
        "As we can see, the data is not in a great shape. But the good news is that we have everything in the form of a list. We can now use basic python operations that we discussed in the first and second hands-on to transform our data\n",
        "\n",
        "But before that, let's ask this question. In what way I could transform the data so that it could be useful for further analysis?\n",
        "\n",
        "Well, we wish we had the data in the following table format...\n",
        "\n",
        "![Screenshot%202023-02-07%20at%204.04.44%20PM.png](attachment:Screenshot%202023-02-07%20at%204.04.44%20PM.png)\n",
        "\n",
        "In general, a good file format to save this kind of tabular data is **Comma Separated Values (CSV)**\n",
        "\n",
        "Now let's work towards transforming our data. Our steps could be:\n",
        "\n",
        "- Define a list of columns and store the column names in the list\n",
        "- Extract one row from raw data at a time, make a dictionary (key-value pair) out of it, where the keys are the column names and values are the entries\n",
        "- Convert the data into a dataframe (which is kind of a table object) so that we could do some cleaning and apply additional transformation operations"
      ]
    },
    {
      "cell_type": "code",
      "execution_count": 6,
      "id": "f952d4e8",
      "metadata": {
        "colab": {
          "base_uri": "https://localhost:8080/"
        },
        "id": "f952d4e8",
        "outputId": "c1f2c614-15ac-4528-97c7-47e82128b527"
      },
      "outputs": [
        {
          "name": "stdout",
          "output_type": "stream",
          "text": [
            "[{'Average and Extremes': 'Aug 1 ', 'Average temperature': ' 63.5°F', 'Average humidity': ' 69%', 'Average dewpoint': ' 51.3°F', 'Average barometer': ' 29.7 in.', 'Average windspeed': ' 4.4 mph', 'Average gustspeed': ' 7.0 mph', 'Average direction': ' 266° ( W )', 'Rainfall for month': ' 0.45 in.', 'Rainfall for year': ' 15.72 in.', 'Maximum rain per minute': ' 0.02 in. on day 01 at time 15:46', 'Maximum temperature': ' 80.8°F on day 01 at time 14:15', 'Minimum temperature': ' 55.1°F on day 01 at time 23:06', 'Maximum humidity': ' 93% on day 01 at time 22:58', 'Minimum humidity': ' 32% on day 01 at time 14:20', 'Maximum pressure': ' 29.815 in. on day 01 at time 18:03', 'Minimum pressure': ' 29.667 in. on day 01 at time 14:40', 'Maximum windspeed': ' 17.3 mph on day 01 at time 15:49', 'Maximum gust speed': ' 24.2 mph  from 038 °( NE) on day 01 at time 04:14', 'Maximum heat index': ' 79.9°F on day 01 at time 14:14'}, {'Average and Extremes': 'Aug 2 ', 'Average temperature': ' 63.6°F', 'Average humidity': ' 68%', 'Average dewpoint': ' 52.2°F', 'Average barometer': ' 29.8 in.', 'Average windspeed': ' 3.2 mph', 'Average gustspeed': ' 5.3 mph', 'Average direction': ' 294° (WNW)', 'Rainfall for month': ' 0.69 in.', 'Rainfall for year': ' 15.96 in.', 'Maximum rain per minute': ' 0.01 in. on day 02 at time 19:43', 'Maximum temperature': ' 74.1°F on day 02 at time 13:26', 'Minimum temperature': ' 56.0°F on day 02 at time 00:25', 'Maximum humidity': ' 91% on day 02 at time 14:28', 'Minimum humidity': ' 44% on day 02 at time 13:20', 'Maximum pressure': ' 29.826 in. on day 02 at time 14:09', 'Minimum pressure': ' 29.711 in. on day 02 at time 18:18', 'Maximum windspeed': ' 17.3 mph on day 02 at time 13:57', 'Maximum gust speed': ' 25.3 mph  from 348 °(NNW) on day 02 at time 13:56', 'Maximum heat index': ' 77.4°F on day 02 at time 13:26'}, {'Average and Extremes': 'Aug 3 ', 'Average temperature': ' 61.2°F', 'Average humidity': ' 72%', 'Average dewpoint': ' 50.4°F', 'Average barometer': ' 29.7 in.', 'Average windspeed': ' 3.5 mph', 'Average gustspeed': ' 5.8 mph', 'Average direction': ' 300° (WNW)', 'Rainfall for month': ' 0.86 in.', 'Rainfall for year': ' 16.13 in.', 'Maximum rain per minute': ' 0.01 in. on day 03 at time 18:01', 'Maximum temperature': ' 76.4°F on day 03 at time 15:06', 'Minimum temperature': ' 49.0°F on day 03 at time 23:26', 'Maximum humidity': ' 97% on day 03 at time 08:29', 'Minimum humidity': ' 32% on day 03 at time 15:01', 'Maximum pressure': ' 29.799 in. on day 03 at time 01:40', 'Minimum pressure': ' 29.659 in. on day 03 at time 16:17', 'Maximum windspeed': ' 13.8 mph on day 03 at time 16:32', 'Maximum gust speed': ' 24.2 mph  from 164 °(SSE) on day 03 at time 16:30', 'Maximum heat index': ' 78.1°F on day 03 at time 15:07'}, {'Average and Extremes': 'Aug 4 ', 'Average temperature': ' 61.2°F', 'Average humidity': ' 60%', 'Average dewpoint': ' 44.5°F', 'Average barometer': ' 29.8 in.', 'Average windspeed': ' 3.3 mph', 'Average gustspeed': ' 5.5 mph', 'Average direction': ' 275° ( W )', 'Rainfall for month': ' 0.89 in.', 'Rainfall for year': ' 16.16 in.', 'Maximum rain per minute': ' 0.01 in. on day 04 at time 08:45', 'Maximum temperature': ' 77.2°F on day 04 at time 17:04', 'Minimum temperature': ' 45.6°F on day 04 at time 06:26', 'Maximum humidity': ' 96% on day 04 at time 06:58', 'Minimum humidity': ' 27% on day 04 at time 18:21', 'Maximum pressure': ' 29.812 in. on day 04 at time 23:31', 'Minimum pressure': ' 29.699 in. on day 04 at time 15:02', 'Maximum windspeed': ' 18.4 mph on day 04 at time 17:24', 'Maximum gust speed': ' 32.2 mph  from 270 °( W ) on day 04 at time 17:21', 'Maximum heat index': ' 77.8°F on day 04 at time 16:50'}, {'Average and Extremes': 'Aug 5 ', 'Average temperature': ' 58.9°F', 'Average humidity': ' 61%', 'Average dewpoint': ' 43.1°F', 'Average barometer': ' 29.8 in.', 'Average windspeed': ' 4.1 mph', 'Average gustspeed': ' 6.4 mph', 'Average direction': ' 273° ( W )', 'Rainfall for month': ' 0.89 in.', 'Rainfall for year': ' 16.16 in.', 'Maximum rain per minute': ' 0.00 in. on day 05 at time 23:59', 'Maximum temperature': ' 78.7°F on day 05 at time 16:26', 'Minimum temperature': ' 41.4°F on day 05 at time 06:16', 'Maximum humidity': ' 92% on day 05 at time 23:59', 'Minimum humidity': ' 24% on day 05 at time 15:40', 'Maximum pressure': ' 29.942 in. on day 05 at time 23:20', 'Minimum pressure': ' 29.762 in. on day 05 at time 16:14', 'Maximum windspeed': ' 21.9 mph on day 05 at time 18:47', 'Maximum gust speed': ' 33.4 mph  from 251 °(WSW) on day 05 at time 18:52', 'Maximum heat index': ' 78.3°F on day 05 at time 16:26'}]\n"
          ]
        }
      ],
      "source": [
        "column_names = [\"Average and Extremes\", \"Average temperature\",\n",
        "           \"Average humidity\",\"Average dewpoint\",\n",
        "           \"Average barometer\",\"Average windspeed\",\n",
        "           \"Average gustspeed\",\"Average direction\",\n",
        "           \"Rainfall for month\",\"Rainfall for year\",\n",
        "           \"Maximum rain per minute\",\"Maximum temperature\",\n",
        "           \"Minimum temperature\",\"Maximum humidity\",\n",
        "           \"Minimum humidity\",\"Maximum pressure\",\n",
        "           \"Minimum pressure\",\"Maximum windspeed\",\n",
        "           \"Maximum gust speed\",\"Maximum heat index\"]\n",
        "\n",
        "final_data = []\n",
        "\n",
        "for l in raw_data:\n",
        "    entries = l.split(\"\\n\")\n",
        "    row = {} # empty dictionary for every row\n",
        "    for entry in entries:\n",
        "        for column_name in column_names:\n",
        "            if column_name in entry:\n",
        "                entry = entry.replace(column_name,\"\")\n",
        "                row[column_name] = entry\n",
        "                break # stops the inner loop here because we already find a match\n",
        "    final_data.append(row)\n",
        "\n",
        "# Sanity check - let's print the first 5 rows\n",
        "print(final_data[:5])"
      ]
    },
    {
      "cell_type": "markdown",
      "id": "79888f27",
      "metadata": {
        "id": "79888f27"
      },
      "source": [
        "#### Convert to DataFrame\n",
        "\n",
        "A DataFrame is a data structure that organizes data into a 2-dimensional table of rows and columns, much like a spreadsheet. DataFrames are one of the most common data structures used in modern data analytics because they are a flexible and intuitive way of storing and working with data.\n",
        "\n",
        "We use **Pandas** to convert our data into dataframe"
      ]
    },
    {
      "cell_type": "code",
      "execution_count": null,
      "id": "57e01da3",
      "metadata": {
        "colab": {
          "base_uri": "https://localhost:8080/",
          "height": 1000
        },
        "id": "57e01da3",
        "outputId": "52b3a5fb-16d3-4b5f-a6b6-13ec0715ebfa"
      },
      "outputs": [],
      "source": [
        "final_data = pandas.DataFrame(final_data)\n",
        "\n",
        "# Print a few elements in the dataframe\n",
        "final_data"
      ]
    },
    {
      "cell_type": "markdown",
      "id": "64ff0af2",
      "metadata": {
        "id": "64ff0af2"
      },
      "source": [
        "At this point we have transformed our data into a decent form. We can choose to store it or do a bit more cleaning and then store.\n",
        "\n",
        "Some basic cleaning that we can do:\n",
        "\n",
        "- Does the data contain any duplicate rows? If yes, remove them.\n",
        "- Does the data contain any NULL entries? If yes, then replace the entry with a default value (we can even remove the row completely).\n",
        "\n",
        "And some basic statistical analysis before storing the data\n"
      ]
    },
    {
      "cell_type": "markdown",
      "id": "0832302a",
      "metadata": {
        "id": "0832302a"
      },
      "source": [
        "#### Duplication Checks and Cleaning"
      ]
    },
    {
      "cell_type": "code",
      "execution_count": 8,
      "id": "71b702ca",
      "metadata": {
        "colab": {
          "base_uri": "https://localhost:8080/"
        },
        "id": "71b702ca",
        "outputId": "f308351b-6ce4-472e-8566-dda85e6a9bfb"
      },
      "outputs": [
        {
          "name": "stdout",
          "output_type": "stream",
          "text": [
            " Number of duplicates before : 7\n",
            " Number of duplicates after removing : 0\n"
          ]
        }
      ],
      "source": [
        "\n",
        "number_of_duplicates = final_data.duplicated().sum()\n",
        "print (f\" Number of duplicates before : {number_of_duplicates}\")\n",
        "\n",
        "# Delete duplicate rows\n",
        "final_data = final_data.drop_duplicates()\n",
        "\n",
        "number_of_duplicates = final_data.duplicated().sum()\n",
        "print (f\" Number of duplicates after removing : {number_of_duplicates}\")"
      ]
    },
    {
      "cell_type": "markdown",
      "id": "d2aa3de9",
      "metadata": {
        "id": "d2aa3de9"
      },
      "source": [
        "#### Inspecting data and checking noisy entries"
      ]
    },
    {
      "cell_type": "code",
      "execution_count": 20,
      "id": "063ce901",
      "metadata": {
        "colab": {
          "base_uri": "https://localhost:8080/"
        },
        "id": "063ce901",
        "outputId": "2103b51e-8848-4af6-af56-f1d1e691ac71",
        "scrolled": true
      },
      "outputs": [
        {
          "name": "stdout",
          "output_type": "stream",
          "text": [
            "<class 'pandas.core.frame.DataFrame'>\n",
            "Index: 33 entries, 0 to 32\n",
            "Data columns (total 20 columns):\n",
            " #   Column                   Non-Null Count  Dtype \n",
            "---  ------                   --------------  ----- \n",
            " 0   Average and Extremes     32 non-null     object\n",
            " 1   Average temperature      32 non-null     object\n",
            " 2   Average humidity         32 non-null     object\n",
            " 3   Average dewpoint         32 non-null     object\n",
            " 4   Average barometer        32 non-null     object\n",
            " 5   Average windspeed        32 non-null     object\n",
            " 6   Average gustspeed        32 non-null     object\n",
            " 7   Average direction        32 non-null     object\n",
            " 8   Rainfall for month       32 non-null     object\n",
            " 9   Rainfall for year        32 non-null     object\n",
            " 10  Maximum rain per minute  32 non-null     object\n",
            " 11  Maximum temperature      32 non-null     object\n",
            " 12  Minimum temperature      32 non-null     object\n",
            " 13  Maximum humidity         32 non-null     object\n",
            " 14  Minimum humidity         32 non-null     object\n",
            " 15  Maximum pressure         32 non-null     object\n",
            " 16  Minimum pressure         32 non-null     object\n",
            " 17  Maximum windspeed        32 non-null     object\n",
            " 18  Maximum gust speed       32 non-null     object\n",
            " 19  Maximum heat index       32 non-null     object\n",
            "dtypes: object(20)\n",
            "memory usage: 5.4+ KB\n"
          ]
        }
      ],
      "source": [
        "final_data.info()"
      ]
    },
    {
      "cell_type": "markdown",
      "id": "cf3d0e41",
      "metadata": {
        "id": "cf3d0e41"
      },
      "source": [
        "We can see that the data has 33 rows overall and but 32 non-null entries. Let's delete the row with NULL entries"
      ]
    },
    {
      "cell_type": "code",
      "execution_count": null,
      "id": "dc26b887",
      "metadata": {
        "colab": {
          "base_uri": "https://localhost:8080/",
          "height": 1000
        },
        "id": "dc26b887",
        "outputId": "200d0836-13c4-4d8b-bd9f-b127497dca48",
        "scrolled": true
      },
      "outputs": [],
      "source": [
        "final_data = final_data.dropna()\n",
        "final_data"
      ]
    },
    {
      "cell_type": "markdown",
      "id": "905d4df9",
      "metadata": {
        "id": "905d4df9"
      },
      "source": [
        "**[Additional Transformations]** We can remove unnecessary strings (e.g. \"F\" for fahrenheit) and \"%\" Symbol and convert these columns into integer/float\n"
      ]
    },
    {
      "cell_type": "code",
      "execution_count": 3,
      "id": "8fccf1fc",
      "metadata": {
        "colab": {
          "base_uri": "https://localhost:8080/",
          "height": 1000
        },
        "id": "8fccf1fc",
        "outputId": "da85b9aa-b596-4014-d735-650a96449e3e",
        "scrolled": false
      },
      "outputs": [
        {
          "ename": "ValueError",
          "evalue": "could not convert string to float: '36.2    (2.4 °C)'",
          "output_type": "error",
          "traceback": [
            "\u001b[1;31m---------------------------------------------------------------------------\u001b[0m",
            "\u001b[1;31mValueError\u001b[0m                                Traceback (most recent call last)",
            "\u001b[1;32mc:\\Users\\何天行\\Downloads\\Hands_on_Data_Curation_and_ETL.ipynb Cell 26\u001b[0m line \u001b[0;36m1\n\u001b[0;32m     <a href='vscode-notebook-cell:/c%3A/Users/%E4%BD%95%E5%A4%A9%E8%A1%8C/Downloads/Hands_on_Data_Curation_and_ETL.ipynb#X34sZmlsZQ%3D%3D?line=9'>10</a>\u001b[0m     converted \u001b[39m=\u001b[39m \u001b[39mfloat\u001b[39m(s)\n\u001b[0;32m     <a href='vscode-notebook-cell:/c%3A/Users/%E4%BD%95%E5%A4%A9%E8%A1%8C/Downloads/Hands_on_Data_Curation_and_ETL.ipynb#X34sZmlsZQ%3D%3D?line=10'>11</a>\u001b[0m     \u001b[39mreturn\u001b[39;00m converted\n\u001b[1;32m---> <a href='vscode-notebook-cell:/c%3A/Users/%E4%BD%95%E5%A4%A9%E8%A1%8C/Downloads/Hands_on_Data_Curation_and_ETL.ipynb#X34sZmlsZQ%3D%3D?line=12'>13</a>\u001b[0m final_data[\u001b[39m\"\u001b[39m\u001b[39mAverage temperature\u001b[39m\u001b[39m\"\u001b[39m] \u001b[39m=\u001b[39m final_data[\u001b[39m\"\u001b[39;49m\u001b[39mAverage temperature\u001b[39;49m\u001b[39m\"\u001b[39;49m]\u001b[39m.\u001b[39;49mapply(clearn_string_and_convert)\n\u001b[0;32m     <a href='vscode-notebook-cell:/c%3A/Users/%E4%BD%95%E5%A4%A9%E8%A1%8C/Downloads/Hands_on_Data_Curation_and_ETL.ipynb#X34sZmlsZQ%3D%3D?line=13'>14</a>\u001b[0m final_data[\u001b[39m\"\u001b[39m\u001b[39mAverage humidity\u001b[39m\u001b[39m\"\u001b[39m] \u001b[39m=\u001b[39m final_data[\u001b[39m\"\u001b[39m\u001b[39mAverage humidity\u001b[39m\u001b[39m\"\u001b[39m]\u001b[39m.\u001b[39mapply(clearn_string_and_convert)\n\u001b[0;32m     <a href='vscode-notebook-cell:/c%3A/Users/%E4%BD%95%E5%A4%A9%E8%A1%8C/Downloads/Hands_on_Data_Curation_and_ETL.ipynb#X34sZmlsZQ%3D%3D?line=14'>15</a>\u001b[0m final_data[\u001b[39m\"\u001b[39m\u001b[39mAverage dewpoint\u001b[39m\u001b[39m\"\u001b[39m] \u001b[39m=\u001b[39m final_data[\u001b[39m\"\u001b[39m\u001b[39mAverage dewpoint\u001b[39m\u001b[39m\"\u001b[39m]\u001b[39m.\u001b[39mapply(clearn_string_and_convert)\n",
            "File \u001b[1;32mc:\\Users\\何天行\\AppData\\Local\\Programs\\Python\\Python39\\lib\\site-packages\\pandas\\core\\series.py:4758\u001b[0m, in \u001b[0;36mSeries.apply\u001b[1;34m(self, func, convert_dtype, args, by_row, **kwargs)\u001b[0m\n\u001b[0;32m   4625\u001b[0m \u001b[39mdef\u001b[39;00m \u001b[39mapply\u001b[39m(\n\u001b[0;32m   4626\u001b[0m     \u001b[39mself\u001b[39m,\n\u001b[0;32m   4627\u001b[0m     func: AggFuncType,\n\u001b[1;32m   (...)\u001b[0m\n\u001b[0;32m   4632\u001b[0m     \u001b[39m*\u001b[39m\u001b[39m*\u001b[39mkwargs,\n\u001b[0;32m   4633\u001b[0m ) \u001b[39m-\u001b[39m\u001b[39m>\u001b[39m DataFrame \u001b[39m|\u001b[39m Series:\n\u001b[0;32m   4634\u001b[0m \u001b[39m    \u001b[39m\u001b[39m\"\"\"\u001b[39;00m\n\u001b[0;32m   4635\u001b[0m \u001b[39m    Invoke function on values of Series.\u001b[39;00m\n\u001b[0;32m   4636\u001b[0m \n\u001b[1;32m   (...)\u001b[0m\n\u001b[0;32m   4756\u001b[0m \u001b[39m    dtype: float64\u001b[39;00m\n\u001b[0;32m   4757\u001b[0m \u001b[39m    \"\"\"\u001b[39;00m\n\u001b[1;32m-> 4758\u001b[0m     \u001b[39mreturn\u001b[39;00m SeriesApply(\n\u001b[0;32m   4759\u001b[0m         \u001b[39mself\u001b[39;49m,\n\u001b[0;32m   4760\u001b[0m         func,\n\u001b[0;32m   4761\u001b[0m         convert_dtype\u001b[39m=\u001b[39;49mconvert_dtype,\n\u001b[0;32m   4762\u001b[0m         by_row\u001b[39m=\u001b[39;49mby_row,\n\u001b[0;32m   4763\u001b[0m         args\u001b[39m=\u001b[39;49margs,\n\u001b[0;32m   4764\u001b[0m         kwargs\u001b[39m=\u001b[39;49mkwargs,\n\u001b[0;32m   4765\u001b[0m     )\u001b[39m.\u001b[39;49mapply()\n",
            "File \u001b[1;32mc:\\Users\\何天行\\AppData\\Local\\Programs\\Python\\Python39\\lib\\site-packages\\pandas\\core\\apply.py:1201\u001b[0m, in \u001b[0;36mSeriesApply.apply\u001b[1;34m(self)\u001b[0m\n\u001b[0;32m   1198\u001b[0m     \u001b[39mreturn\u001b[39;00m \u001b[39mself\u001b[39m\u001b[39m.\u001b[39mapply_compat()\n\u001b[0;32m   1200\u001b[0m \u001b[39m# self.func is Callable\u001b[39;00m\n\u001b[1;32m-> 1201\u001b[0m \u001b[39mreturn\u001b[39;00m \u001b[39mself\u001b[39;49m\u001b[39m.\u001b[39;49mapply_standard()\n",
            "File \u001b[1;32mc:\\Users\\何天行\\AppData\\Local\\Programs\\Python\\Python39\\lib\\site-packages\\pandas\\core\\apply.py:1281\u001b[0m, in \u001b[0;36mSeriesApply.apply_standard\u001b[1;34m(self)\u001b[0m\n\u001b[0;32m   1275\u001b[0m \u001b[39m# row-wise access\u001b[39;00m\n\u001b[0;32m   1276\u001b[0m \u001b[39m# apply doesn't have a `na_action` keyword and for backward compat reasons\u001b[39;00m\n\u001b[0;32m   1277\u001b[0m \u001b[39m# we need to give `na_action=\"ignore\"` for categorical data.\u001b[39;00m\n\u001b[0;32m   1278\u001b[0m \u001b[39m# TODO: remove the `na_action=\"ignore\"` when that default has been changed in\u001b[39;00m\n\u001b[0;32m   1279\u001b[0m \u001b[39m#  Categorical (GH51645).\u001b[39;00m\n\u001b[0;32m   1280\u001b[0m action \u001b[39m=\u001b[39m \u001b[39m\"\u001b[39m\u001b[39mignore\u001b[39m\u001b[39m\"\u001b[39m \u001b[39mif\u001b[39;00m \u001b[39misinstance\u001b[39m(obj\u001b[39m.\u001b[39mdtype, CategoricalDtype) \u001b[39melse\u001b[39;00m \u001b[39mNone\u001b[39;00m\n\u001b[1;32m-> 1281\u001b[0m mapped \u001b[39m=\u001b[39m obj\u001b[39m.\u001b[39;49m_map_values(\n\u001b[0;32m   1282\u001b[0m     mapper\u001b[39m=\u001b[39;49mcurried, na_action\u001b[39m=\u001b[39;49maction, convert\u001b[39m=\u001b[39;49m\u001b[39mself\u001b[39;49m\u001b[39m.\u001b[39;49mconvert_dtype\n\u001b[0;32m   1283\u001b[0m )\n\u001b[0;32m   1285\u001b[0m \u001b[39mif\u001b[39;00m \u001b[39mlen\u001b[39m(mapped) \u001b[39mand\u001b[39;00m \u001b[39misinstance\u001b[39m(mapped[\u001b[39m0\u001b[39m], ABCSeries):\n\u001b[0;32m   1286\u001b[0m     warnings\u001b[39m.\u001b[39mwarn(\n\u001b[0;32m   1287\u001b[0m         \u001b[39m\"\u001b[39m\u001b[39mReturning a DataFrame from Series.apply when the supplied function \u001b[39m\u001b[39m\"\u001b[39m\n\u001b[0;32m   1288\u001b[0m         \u001b[39m\"\u001b[39m\u001b[39mreturns a Series is deprecated and will be removed in a future \u001b[39m\u001b[39m\"\u001b[39m\n\u001b[1;32m   (...)\u001b[0m\n\u001b[0;32m   1291\u001b[0m         stacklevel\u001b[39m=\u001b[39mfind_stack_level(),\n\u001b[0;32m   1292\u001b[0m     )  \u001b[39m# GH52116\u001b[39;00m\n",
            "File \u001b[1;32mc:\\Users\\何天行\\AppData\\Local\\Programs\\Python\\Python39\\lib\\site-packages\\pandas\\core\\base.py:921\u001b[0m, in \u001b[0;36mIndexOpsMixin._map_values\u001b[1;34m(self, mapper, na_action, convert)\u001b[0m\n\u001b[0;32m    918\u001b[0m \u001b[39mif\u001b[39;00m \u001b[39misinstance\u001b[39m(arr, ExtensionArray):\n\u001b[0;32m    919\u001b[0m     \u001b[39mreturn\u001b[39;00m arr\u001b[39m.\u001b[39mmap(mapper, na_action\u001b[39m=\u001b[39mna_action)\n\u001b[1;32m--> 921\u001b[0m \u001b[39mreturn\u001b[39;00m algorithms\u001b[39m.\u001b[39;49mmap_array(arr, mapper, na_action\u001b[39m=\u001b[39;49mna_action, convert\u001b[39m=\u001b[39;49mconvert)\n",
            "File \u001b[1;32mc:\\Users\\何天行\\AppData\\Local\\Programs\\Python\\Python39\\lib\\site-packages\\pandas\\core\\algorithms.py:1812\u001b[0m, in \u001b[0;36mmap_array\u001b[1;34m(arr, mapper, na_action, convert)\u001b[0m\n\u001b[0;32m   1810\u001b[0m values \u001b[39m=\u001b[39m arr\u001b[39m.\u001b[39mastype(\u001b[39mobject\u001b[39m, copy\u001b[39m=\u001b[39m\u001b[39mFalse\u001b[39;00m)\n\u001b[0;32m   1811\u001b[0m \u001b[39mif\u001b[39;00m na_action \u001b[39mis\u001b[39;00m \u001b[39mNone\u001b[39;00m:\n\u001b[1;32m-> 1812\u001b[0m     \u001b[39mreturn\u001b[39;00m lib\u001b[39m.\u001b[39;49mmap_infer(values, mapper, convert\u001b[39m=\u001b[39;49mconvert)\n\u001b[0;32m   1813\u001b[0m \u001b[39melse\u001b[39;00m:\n\u001b[0;32m   1814\u001b[0m     \u001b[39mreturn\u001b[39;00m lib\u001b[39m.\u001b[39mmap_infer_mask(\n\u001b[0;32m   1815\u001b[0m         values, mapper, mask\u001b[39m=\u001b[39misna(values)\u001b[39m.\u001b[39mview(np\u001b[39m.\u001b[39muint8), convert\u001b[39m=\u001b[39mconvert\n\u001b[0;32m   1816\u001b[0m     )\n",
            "File \u001b[1;32mlib.pyx:2917\u001b[0m, in \u001b[0;36mpandas._libs.lib.map_infer\u001b[1;34m()\u001b[0m\n",
            "\u001b[1;32mc:\\Users\\何天行\\Downloads\\Hands_on_Data_Curation_and_ETL.ipynb Cell 26\u001b[0m line \u001b[0;36m1\n\u001b[0;32m      <a href='vscode-notebook-cell:/c%3A/Users/%E4%BD%95%E5%A4%A9%E8%A1%8C/Downloads/Hands_on_Data_Curation_and_ETL.ipynb#X34sZmlsZQ%3D%3D?line=7'>8</a>\u001b[0m s \u001b[39m=\u001b[39m s\u001b[39m.\u001b[39mreplace(\u001b[39m\"\u001b[39m\u001b[39mmph\u001b[39m\u001b[39m\"\u001b[39m,\u001b[39m\"\u001b[39m\u001b[39m\"\u001b[39m)\n\u001b[0;32m      <a href='vscode-notebook-cell:/c%3A/Users/%E4%BD%95%E5%A4%A9%E8%A1%8C/Downloads/Hands_on_Data_Curation_and_ETL.ipynb#X34sZmlsZQ%3D%3D?line=8'>9</a>\u001b[0m \u001b[39m# s = s.split(\" \")\u001b[39;00m\n\u001b[1;32m---> <a href='vscode-notebook-cell:/c%3A/Users/%E4%BD%95%E5%A4%A9%E8%A1%8C/Downloads/Hands_on_Data_Curation_and_ETL.ipynb#X34sZmlsZQ%3D%3D?line=9'>10</a>\u001b[0m converted \u001b[39m=\u001b[39m \u001b[39mfloat\u001b[39;49m(s)\n\u001b[0;32m     <a href='vscode-notebook-cell:/c%3A/Users/%E4%BD%95%E5%A4%A9%E8%A1%8C/Downloads/Hands_on_Data_Curation_and_ETL.ipynb#X34sZmlsZQ%3D%3D?line=10'>11</a>\u001b[0m \u001b[39mreturn\u001b[39;00m converted\n",
            "\u001b[1;31mValueError\u001b[0m: could not convert string to float: '36.2    (2.4 °C)'"
          ]
        }
      ],
      "source": [
        "# Define a function for cleaning\n",
        "def clearn_string_and_convert(s):\n",
        "    if type(s) is float:\n",
        "        return\n",
        "    s = s.replace(\"%\",\"\")\n",
        "    s = s.replace(\"°F\",\"\")\n",
        "    s = s.replace(\"in.\",\"\")\n",
        "    s = s.replace(\"mph\",\"\")\n",
        "    # s = s.split(\" \")\n",
        "    converted = float(s)\n",
        "    return converted\n",
        "\n",
        "final_data[\"Average temperature\"] = final_data[\"Average temperature\"].apply(clearn_string_and_convert)\n",
        "final_data[\"Average humidity\"] = final_data[\"Average humidity\"].apply(clearn_string_and_convert)\n",
        "final_data[\"Average dewpoint\"] = final_data[\"Average dewpoint\"].apply(clearn_string_and_convert)\n",
        "final_data[\"Average barometer\"] = final_data[\"Average barometer\"].apply(clearn_string_and_convert)\n",
        "final_data[\"Average windspeed\"] = final_data[\"Average windspeed\"].apply(clearn_string_and_convert)\n",
        "final_data[\"Average gustspeed\"] = final_data[\"Average gustspeed\"].apply(clearn_string_and_convert)\n",
        "\n",
        "final_data"
      ]
    },
    {
      "cell_type": "markdown",
      "id": "4e20814f",
      "metadata": {
        "id": "4e20814f"
      },
      "source": [
        "**[Optional]** Describe some of your columns"
      ]
    },
    {
      "cell_type": "code",
      "execution_count": 11,
      "id": "8e810cc0",
      "metadata": {
        "colab": {
          "base_uri": "https://localhost:8080/"
        },
        "id": "8e810cc0",
        "outputId": "e590c263-d22a-4375-eb17-7c0b7255f4d9",
        "scrolled": false
      },
      "outputs": [
        {
          "data": {
            "text/plain": [
              "count    32.000000\n",
              "mean     61.193750\n",
              "std       4.943157\n",
              "min      52.000000\n",
              "25%      56.875000\n",
              "50%      61.350000\n",
              "75%      64.225000\n",
              "max      71.400000\n",
              "Name: Average temperature, dtype: float64"
            ]
          },
          "execution_count": 11,
          "metadata": {},
          "output_type": "execute_result"
        }
      ],
      "source": [
        "final_data[\"Average temperature\"].describe()"
      ]
    },
    {
      "cell_type": "markdown",
      "id": "609bd506",
      "metadata": {
        "id": "609bd506"
      },
      "source": [
        "**[Optional]** Plot a histogram of a column"
      ]
    },
    {
      "cell_type": "code",
      "execution_count": 12,
      "id": "e6bad12f",
      "metadata": {
        "colab": {
          "base_uri": "https://localhost:8080/",
          "height": 451
        },
        "id": "e6bad12f",
        "outputId": "10afe054-b1fe-4309-db36-709890aac58d"
      },
      "outputs": [
        {
          "data": {
            "image/png": "[encoded data removed]",
            "text/plain": [
              "<Figure size 640x480 with 1 Axes>"
            ]
          },
          "metadata": {},
          "output_type": "display_data"
        }
      ],
      "source": [
        "hist = final_data[\"Average temperature\"].hist(bins=5)"
      ]
    },
    {
      "cell_type": "markdown",
      "id": "e8ea84e9",
      "metadata": {
        "id": "e8ea84e9"
      },
      "source": [
        "We will look into visualizations in the next hands-on"
      ]
    },
    {
      "cell_type": "markdown",
      "id": "8aa0f564",
      "metadata": {
        "id": "8aa0f564"
      },
      "source": [
        "### 3.3 Load\n",
        "\n",
        "Now, let's store the DataFrame table that we created on our local disk so that we can use it later. We choose to convert it to a CSV format. It is quite simple with Pandas dataframes."
      ]
    },
    {
      "cell_type": "code",
      "execution_count": 14,
      "id": "d7133a7c",
      "metadata": {
        "id": "d7133a7c"
      },
      "outputs": [],
      "source": [
        "final_data.to_csv(\"EstesPark_Weather_January_2023.csv\")"
      ]
    },
    {
      "cell_type": "markdown",
      "id": "2bc971d4",
      "metadata": {
        "id": "2bc971d4"
      },
      "source": [
        "## Exercise E1: ETL data for January 2023\n",
        "\n",
        "- Repeat the steps shown in section 2 and 3 above for January 2006.\n",
        "- Extract January 2006 data from https://www.estesparkweather.net/archive_reports.php?date=200601\n",
        "- Perform transform steps in the same way as shown in 3.2 and save the data on your laptop.\n",
        "- Describe \"Average temperature\" using `describe()` function shown under 3.2. What differences do you see between August 2023 and January 2023.\n",
        "- **Optional**: Try the same exercise for an earlier month (say a month in 2006). What difference in statistics do you see. Can you say that global warming is real based on the data?"
      ]
    },
    {
      "cell_type": "markdown",
      "id": "c3c4293f",
      "metadata": {},
      "source": [
        "## Jan 2023 data"
      ]
    },
    {
      "cell_type": "code",
      "execution_count": 6,
      "id": "3d33b647",
      "metadata": {
        "id": "3d33b647"
      },
      "outputs": [
        {
          "name": "stdout",
          "output_type": "stream",
          "text": [
            "BeautifulSoup and Pandas are already installed and imported\n",
            "Webpage opened successfully...\n",
            "Webpage loaded and parsed successfully...\n",
            "Webpage loaded and parsed successfully...\n"
          ]
        },
        {
          "data": {
            "text/plain": [
              "count    32.000000\n",
              "mean     24.900000\n",
              "std      10.212927\n",
              "min      -0.800000\n",
              "25%      20.350000\n",
              "50%      23.000000\n",
              "75%      32.350000\n",
              "max      42.900000\n",
              "Name: Average temperature, dtype: float64"
            ]
          },
          "execution_count": 6,
          "metadata": {},
          "output_type": "execute_result"
        }
      ],
      "source": [
        "\n",
        "try:\n",
        "    from bs4 import BeautifulSoup\n",
        "    import pandas\n",
        "    print (\"BeautifulSoup and Pandas are already installed and imported\")\n",
        "except:\n",
        "    import sys\n",
        "    from bs4 import BeautifulSoup\n",
        "    import pandas\n",
        "    print (\"BeautifulSoup and Pandas were not found. Installed them and imported\")\n",
        "\n",
        "import requests\n",
        "def clearn_string_and_convert(s):\n",
        "    if type(s) is not str:\n",
        "        return s\n",
        "    s = s.replace(\"%\",\"\")\n",
        "    s = s.replace(\"°F\",\"\")\n",
        "    s = s.replace(\"in.\",\"\")\n",
        "    s = s.replace(\"mph\",\"\")\n",
        "    if '(' in s:\n",
        "        leftq = s.index('(')\n",
        "        s = s[:leftq]\n",
        "    converted = float(s)\n",
        "    return converted\n",
        "\n",
        "opened_webpage = requests.get(\"https://www.estesparkweather.net/archive_reports.php?date=202301\")\n",
        "print (\"Webpage opened successfully...\")\n",
        "bs = BeautifulSoup(opened_webpage.content, \"html.parser\")\n",
        "print (\"Webpage loaded and parsed successfully...\")\n",
        "raw_data = []\n",
        "\n",
        "# Find all the tables in the webpage page that we have just parsed\n",
        "table = bs.find_all(\"table\")\n",
        "\n",
        "for row in table:\n",
        "    line = row.text\n",
        "    raw_data.append(line)\n",
        "\n",
        "# Initialize a BeautifulSoup object to read and parse the webpage read\n",
        "# This is like calling the __init__ function in BeautifulSoup\n",
        "bs = BeautifulSoup(opened_webpage.content, \"html.parser\")\n",
        "print (\"Webpage loaded and parsed successfully...\")\n",
        "column_names = [\"Average and Extremes\", \"Average temperature\",\n",
        "           \"Average humidity\",\"Average dewpoint\",\n",
        "           \"Average barometer\",\"Average windspeed\",\n",
        "           \"Average gustspeed\",\"Average direction\",\n",
        "           \"Rainfall for month\",\"Rainfall for year\",\n",
        "           \"Maximum rain per minute\",\"Maximum temperature\",\n",
        "           \"Minimum temperature\",\"Maximum humidity\",\n",
        "           \"Minimum humidity\",\"Maximum pressure\",\n",
        "           \"Minimum pressure\",\"Maximum windspeed\",\n",
        "           \"Maximum gust speed\",\"Maximum heat index\"]\n",
        "\n",
        "final_data = []\n",
        "\n",
        "for l in raw_data:\n",
        "    entries = l.split(\"\\n\")\n",
        "    row = {} # empty dictionary for every row\n",
        "    for entry in entries:\n",
        "        for column_name in column_names:\n",
        "            if column_name in entry:\n",
        "                entry = entry.replace(column_name,\"\")\n",
        "                row[column_name] = entry\n",
        "                break # stops the inner loop here because we already find a match\n",
        "    final_data.append(row)\n",
        "final_data = pandas.DataFrame(final_data)\n",
        "\n",
        "number_of_duplicates = final_data.duplicated().sum()\n",
        "\n",
        "# Delete duplicate rows\n",
        "final_data = final_data.drop_duplicates()\n",
        "\n",
        "number_of_duplicates = final_data.duplicated().sum()\n",
        "final_data\n",
        "final_data[\"Average temperature\"] = final_data[\"Average temperature\"].apply(clearn_string_and_convert)\n",
        "final_data[\"Average humidity\"] = final_data[\"Average humidity\"].apply(clearn_string_and_convert)\n",
        "final_data[\"Average dewpoint\"] = final_data[\"Average dewpoint\"].apply(clearn_string_and_convert)\n",
        "final_data[\"Average barometer\"] = final_data[\"Average barometer\"].apply(clearn_string_and_convert)\n",
        "final_data[\"Average windspeed\"] = final_data[\"Average windspeed\"].apply(clearn_string_and_convert)\n",
        "final_data[\"Average gustspeed\"] = final_data[\"Average gustspeed\"].apply(clearn_string_and_convert)\n",
        "\n",
        "#  hist = final_data[\"Average temperature\"].hist(bins=5)\n",
        "final_data.to_csv(\"EstesPark_Weather_January_2023.csv\")\n",
        "final_data[\"Average temperature\"].describe()"
      ]
    },
    {
      "cell_type": "markdown",
      "id": "8cb0c37f",
      "metadata": {},
      "source": [
        "##  Jan 2006 data"
      ]
    },
    {
      "cell_type": "code",
      "execution_count": 5,
      "id": "07ede971",
      "metadata": {},
      "outputs": [
        {
          "name": "stdout",
          "output_type": "stream",
          "text": [
            "BeautifulSoup and Pandas are already installed and imported\n",
            "Webpage opened successfully...\n",
            "Webpage loaded and parsed successfully...\n",
            "Webpage loaded and parsed successfully...\n",
            " Number of duplicates before : 7\n",
            " Number of duplicates after removing : 0\n"
          ]
        },
        {
          "data": {
            "text/plain": [
              "count    24.000000\n",
              "mean     30.712500\n",
              "std       7.885833\n",
              "min      16.700000\n",
              "25%      25.550000\n",
              "50%      30.750000\n",
              "75%      35.000000\n",
              "max      47.000000\n",
              "Name: Average temperature, dtype: float64"
            ]
          },
          "execution_count": 5,
          "metadata": {},
          "output_type": "execute_result"
        }
      ],
      "source": [
        "\n",
        "try:\n",
        "    from bs4 import BeautifulSoup\n",
        "    import pandas\n",
        "    print (\"BeautifulSoup and Pandas are already installed and imported\")\n",
        "except:\n",
        "    import sys\n",
        "    from bs4 import BeautifulSoup\n",
        "    import pandas\n",
        "    print (\"BeautifulSoup and Pandas were not found. Installed them and imported\")\n",
        "\n",
        "import requests\n",
        "def clearn_string_and_convert(s):\n",
        "    if type(s) is not str:\n",
        "        return s\n",
        "    s = s.replace(\"%\",\"\")\n",
        "    s = s.replace(\"°F\",\"\")\n",
        "    s = s.replace(\"in.\",\"\")\n",
        "    s = s.replace(\"mph\",\"\")\n",
        "    if '(' in s:\n",
        "        leftq = s.index('(')\n",
        "        s = s[:leftq]\n",
        "    converted = float(s)\n",
        "    return converted\n",
        "\n",
        "opened_webpage = requests.get(\"https://www.estesparkweather.net/archive_reports.php?date=200601\")\n",
        "print (\"Webpage opened successfully...\")\n",
        "bs = BeautifulSoup(opened_webpage.content, \"html.parser\")\n",
        "print (\"Webpage loaded and parsed successfully...\")\n",
        "raw_data = []\n",
        "\n",
        "# Find all the tables in the webpage page that we have just parsed\n",
        "table = bs.find_all(\"table\")\n",
        "\n",
        "for row in table:\n",
        "    line = row.text\n",
        "    raw_data.append(line)\n",
        "\n",
        "# Initialize a BeautifulSoup object to read and parse the webpage read\n",
        "# This is like calling the __init__ function in BeautifulSoup\n",
        "bs = BeautifulSoup(opened_webpage.content, \"html.parser\")\n",
        "print (\"Webpage loaded and parsed successfully...\")\n",
        "column_names = [\"Average and Extremes\", \"Average temperature\",\n",
        "           \"Average humidity\",\"Average dewpoint\",\n",
        "           \"Average barometer\",\"Average windspeed\",\n",
        "           \"Average gustspeed\",\"Average direction\",\n",
        "           \"Rainfall for month\",\"Rainfall for year\",\n",
        "           \"Maximum rain per minute\",\"Maximum temperature\",\n",
        "           \"Minimum temperature\",\"Maximum humidity\",\n",
        "           \"Minimum humidity\",\"Maximum pressure\",\n",
        "           \"Minimum pressure\",\"Maximum windspeed\",\n",
        "           \"Maximum gust speed\",\"Maximum heat index\"]\n",
        "\n",
        "final_data = []\n",
        "\n",
        "for l in raw_data:\n",
        "    entries = l.split(\"\\n\")\n",
        "    row = {} # empty dictionary for every row\n",
        "    for entry in entries:\n",
        "        for column_name in column_names:\n",
        "            if column_name in entry:\n",
        "                entry = entry.replace(column_name,\"\")\n",
        "                row[column_name] = entry\n",
        "                break # stops the inner loop here because we already find a match\n",
        "    final_data.append(row)\n",
        "\n",
        "final_data = pandas.DataFrame(final_data)\n",
        "\n",
        "number_of_duplicates = final_data.duplicated().sum()\n",
        "print (f\" Number of duplicates before : {number_of_duplicates}\")\n",
        "\n",
        "# Delete duplicate rows\n",
        "final_data = final_data.drop_duplicates()\n",
        "\n",
        "number_of_duplicates = final_data.duplicated().sum()\n",
        "print (f\" Number of duplicates after removing : {number_of_duplicates}\")\n",
        "final_data\n",
        "final_data[\"Average temperature\"] = final_data[\"Average temperature\"].apply(clearn_string_and_convert)\n",
        "final_data[\"Average humidity\"] = final_data[\"Average humidity\"].apply(clearn_string_and_convert)\n",
        "final_data[\"Average dewpoint\"] = final_data[\"Average dewpoint\"].apply(clearn_string_and_convert)\n",
        "final_data[\"Average barometer\"] = final_data[\"Average barometer\"].apply(clearn_string_and_convert)\n",
        "final_data[\"Average windspeed\"] = final_data[\"Average windspeed\"].apply(clearn_string_and_convert)\n",
        "final_data[\"Average gustspeed\"] = final_data[\"Average gustspeed\"].apply(clearn_string_and_convert)\n",
        "\n",
        "#  hist = final_data[\"Average temperature\"].hist(bins=5)\n",
        "final_data.to_csv(\"EstesPark_Weather_January_2006.csv\")\n",
        "final_data[\"Average temperature\"].describe()"
      ]
    },
    {
      "cell_type": "markdown",
      "id": "7f2a8764",
      "metadata": {},
      "source": [
        "August have much higher tempreture than January in 2023 (That applies for nearly every place on the north hemisphere:)\n",
        "Based on the data acquired, global warming seems to be a false statement."
      ]
    },
    {
      "cell_type": "markdown",
      "id": "f8547d00",
      "metadata": {},
      "source": []
    },
    {
      "cell_type": "markdown",
      "id": "e64b7a8b",
      "metadata": {
        "id": "e64b7a8b"
      },
      "source": [
        "## [Optinal] Exercise E2: Commit and push this ipynb file into your github repository\n",
        "\n",
        "After completing E1, add, commit and push this ipynb file into your github repository that you created in Hands_on4. Share your github link in the comment secion of the assignment in Canvas."
      ]
    },
    {
      "cell_type": "markdown",
      "id": "24122336",
      "metadata": {
        "id": "24122336"
      },
      "source": [
        "## Question: How much extra time did you need?"
      ]
    }
  ],
  "metadata": {
    "colab": {
      "provenance": []
    },
    "kernelspec": {
      "display_name": "Python 3 (ipykernel)",
      "language": "python",
      "name": "python3"
    },
    "language_info": {
      "codemirror_mode": {
        "name": "ipython",
        "version": 3
      },
      "file_extension": ".py",
      "mimetype": "text/x-python",
      "name": "python",
      "nbconvert_exporter": "python",
      "pygments_lexer": "ipython3",
      "version": "3.9.13"
    }
  },
  "nbformat": 4,
  "nbformat_minor": 5
}
